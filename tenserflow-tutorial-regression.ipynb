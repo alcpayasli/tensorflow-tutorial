{
 "cells": [
  {
   "cell_type": "markdown",
   "id": "003a8616",
   "metadata": {
    "_cell_guid": "b1076dfc-b9ad-4769-8c92-a6c4dae69d19",
    "_uuid": "8f2839f25d086af736a60e9eeb907d3b93b6e0e5",
    "papermill": {
     "duration": 0.019508,
     "end_time": "2024-10-14T17:09:24.911354",
     "exception": false,
     "start_time": "2024-10-14T17:09:24.891846",
     "status": "completed"
    },
    "tags": []
   },
   "source": [
    "# Basic regression: Predict fuel efficiency\n",
    "\n",
    "#### In a regression problem, the aim is to predict the output of a continuous value, like a price or a probability. Contrast this with a classification problem, where the aim is to select a class from a list of classes (for example, where a picture contains an apple or an orange, recognizing which fruit is in the picture).\n",
    "\n",
    "#### This tutorial uses the classic Auto MPG dataset and demonstrates how to build models to predict the fuel efficiency of the late-1970s and early 1980s automobiles. To do this, you will provide the models with a description of many automobiles from that time period. This description includes attributes like cylinders, displacement, horsepower, and weight."
   ]
  },
  {
   "cell_type": "code",
   "execution_count": 1,
   "id": "9aac0ef8",
   "metadata": {
    "execution": {
     "iopub.execute_input": "2024-10-14T17:09:24.947099Z",
     "iopub.status.busy": "2024-10-14T17:09:24.946670Z",
     "iopub.status.idle": "2024-10-14T17:09:27.582250Z",
     "shell.execute_reply": "2024-10-14T17:09:27.581150Z"
    },
    "papermill": {
     "duration": 2.656363,
     "end_time": "2024-10-14T17:09:27.584889",
     "exception": false,
     "start_time": "2024-10-14T17:09:24.928526",
     "status": "completed"
    },
    "tags": []
   },
   "outputs": [],
   "source": [
    "import matplotlib.pyplot as plt\n",
    "import numpy as np\n",
    "import pandas as pd\n",
    "import seaborn as sns\n",
    "import warnings\n",
    "warnings.filterwarnings(\"ignore\")\n",
    "\n",
    "# Make NumPy printouts easier to read.\n",
    "np.set_printoptions(precision=3, suppress=True)"
   ]
  },
  {
   "cell_type": "code",
   "execution_count": 2,
   "id": "a1c92883",
   "metadata": {
    "execution": {
     "iopub.execute_input": "2024-10-14T17:09:27.621439Z",
     "iopub.status.busy": "2024-10-14T17:09:27.620861Z",
     "iopub.status.idle": "2024-10-14T17:09:42.361580Z",
     "shell.execute_reply": "2024-10-14T17:09:42.360347Z"
    },
    "papermill": {
     "duration": 14.761899,
     "end_time": "2024-10-14T17:09:42.364127",
     "exception": false,
     "start_time": "2024-10-14T17:09:27.602228",
     "status": "completed"
    },
    "tags": []
   },
   "outputs": [
    {
     "name": "stdout",
     "output_type": "stream",
     "text": [
      "2.16.1\n"
     ]
    }
   ],
   "source": [
    "import tensorflow as tf\n",
    "\n",
    "from tensorflow import keras\n",
    "from tensorflow.keras import layers\n",
    "\n",
    "print(tf.__version__)"
   ]
  },
  {
   "cell_type": "markdown",
   "id": "3ffe4fcc",
   "metadata": {
    "papermill": {
     "duration": 0.016902,
     "end_time": "2024-10-14T17:09:42.398448",
     "exception": false,
     "start_time": "2024-10-14T17:09:42.381546",
     "status": "completed"
    },
    "tags": []
   },
   "source": [
    "# The Auto MPG dataset"
   ]
  },
  {
   "cell_type": "markdown",
   "id": "805379b5",
   "metadata": {
    "papermill": {
     "duration": 0.017026,
     "end_time": "2024-10-14T17:09:42.432744",
     "exception": false,
     "start_time": "2024-10-14T17:09:42.415718",
     "status": "completed"
    },
    "tags": []
   },
   "source": [
    "## Get the data\n",
    "#### First download and import the dataset using pandas:"
   ]
  },
  {
   "cell_type": "code",
   "execution_count": 3,
   "id": "3aaf1d03",
   "metadata": {
    "execution": {
     "iopub.execute_input": "2024-10-14T17:09:42.468846Z",
     "iopub.status.busy": "2024-10-14T17:09:42.467807Z",
     "iopub.status.idle": "2024-10-14T17:09:43.013428Z",
     "shell.execute_reply": "2024-10-14T17:09:43.012351Z"
    },
    "papermill": {
     "duration": 0.566309,
     "end_time": "2024-10-14T17:09:43.016092",
     "exception": false,
     "start_time": "2024-10-14T17:09:42.449783",
     "status": "completed"
    },
    "tags": []
   },
   "outputs": [],
   "source": [
    "url = 'http://archive.ics.uci.edu/ml/machine-learning-databases/auto-mpg/auto-mpg.data'\n",
    "column_names = ['MPG', 'Cylinders', 'Displacement', 'Horsepower', 'Weight',\n",
    "                'Acceleration', 'Model Year', 'Origin']\n",
    "\n",
    "raw_dataset = pd.read_csv(url, names=column_names,\n",
    "                          na_values='?', comment='\\t',\n",
    "                          sep=' ', skipinitialspace=True)"
   ]
  },
  {
   "cell_type": "code",
   "execution_count": 4,
   "id": "df05af13",
   "metadata": {
    "execution": {
     "iopub.execute_input": "2024-10-14T17:09:43.051528Z",
     "iopub.status.busy": "2024-10-14T17:09:43.051135Z",
     "iopub.status.idle": "2024-10-14T17:09:43.076372Z",
     "shell.execute_reply": "2024-10-14T17:09:43.075377Z"
    },
    "papermill": {
     "duration": 0.045386,
     "end_time": "2024-10-14T17:09:43.078496",
     "exception": false,
     "start_time": "2024-10-14T17:09:43.033110",
     "status": "completed"
    },
    "tags": []
   },
   "outputs": [
    {
     "data": {
      "text/html": [
       "<div>\n",
       "<style scoped>\n",
       "    .dataframe tbody tr th:only-of-type {\n",
       "        vertical-align: middle;\n",
       "    }\n",
       "\n",
       "    .dataframe tbody tr th {\n",
       "        vertical-align: top;\n",
       "    }\n",
       "\n",
       "    .dataframe thead th {\n",
       "        text-align: right;\n",
       "    }\n",
       "</style>\n",
       "<table border=\"1\" class=\"dataframe\">\n",
       "  <thead>\n",
       "    <tr style=\"text-align: right;\">\n",
       "      <th></th>\n",
       "      <th>MPG</th>\n",
       "      <th>Cylinders</th>\n",
       "      <th>Displacement</th>\n",
       "      <th>Horsepower</th>\n",
       "      <th>Weight</th>\n",
       "      <th>Acceleration</th>\n",
       "      <th>Model Year</th>\n",
       "      <th>Origin</th>\n",
       "    </tr>\n",
       "  </thead>\n",
       "  <tbody>\n",
       "    <tr>\n",
       "      <th>393</th>\n",
       "      <td>27.0</td>\n",
       "      <td>4</td>\n",
       "      <td>140.0</td>\n",
       "      <td>86.0</td>\n",
       "      <td>2790.0</td>\n",
       "      <td>15.6</td>\n",
       "      <td>82</td>\n",
       "      <td>1</td>\n",
       "    </tr>\n",
       "    <tr>\n",
       "      <th>394</th>\n",
       "      <td>44.0</td>\n",
       "      <td>4</td>\n",
       "      <td>97.0</td>\n",
       "      <td>52.0</td>\n",
       "      <td>2130.0</td>\n",
       "      <td>24.6</td>\n",
       "      <td>82</td>\n",
       "      <td>2</td>\n",
       "    </tr>\n",
       "    <tr>\n",
       "      <th>395</th>\n",
       "      <td>32.0</td>\n",
       "      <td>4</td>\n",
       "      <td>135.0</td>\n",
       "      <td>84.0</td>\n",
       "      <td>2295.0</td>\n",
       "      <td>11.6</td>\n",
       "      <td>82</td>\n",
       "      <td>1</td>\n",
       "    </tr>\n",
       "    <tr>\n",
       "      <th>396</th>\n",
       "      <td>28.0</td>\n",
       "      <td>4</td>\n",
       "      <td>120.0</td>\n",
       "      <td>79.0</td>\n",
       "      <td>2625.0</td>\n",
       "      <td>18.6</td>\n",
       "      <td>82</td>\n",
       "      <td>1</td>\n",
       "    </tr>\n",
       "    <tr>\n",
       "      <th>397</th>\n",
       "      <td>31.0</td>\n",
       "      <td>4</td>\n",
       "      <td>119.0</td>\n",
       "      <td>82.0</td>\n",
       "      <td>2720.0</td>\n",
       "      <td>19.4</td>\n",
       "      <td>82</td>\n",
       "      <td>1</td>\n",
       "    </tr>\n",
       "  </tbody>\n",
       "</table>\n",
       "</div>"
      ],
      "text/plain": [
       "      MPG  Cylinders  Displacement  Horsepower  Weight  Acceleration  \\\n",
       "393  27.0          4         140.0        86.0  2790.0          15.6   \n",
       "394  44.0          4          97.0        52.0  2130.0          24.6   \n",
       "395  32.0          4         135.0        84.0  2295.0          11.6   \n",
       "396  28.0          4         120.0        79.0  2625.0          18.6   \n",
       "397  31.0          4         119.0        82.0  2720.0          19.4   \n",
       "\n",
       "     Model Year  Origin  \n",
       "393          82       1  \n",
       "394          82       2  \n",
       "395          82       1  \n",
       "396          82       1  \n",
       "397          82       1  "
      ]
     },
     "execution_count": 4,
     "metadata": {},
     "output_type": "execute_result"
    }
   ],
   "source": [
    "dataset = raw_dataset.copy()\n",
    "dataset.tail()"
   ]
  },
  {
   "cell_type": "markdown",
   "id": "8a7c78a6",
   "metadata": {
    "papermill": {
     "duration": 0.017722,
     "end_time": "2024-10-14T17:09:43.113572",
     "exception": false,
     "start_time": "2024-10-14T17:09:43.095850",
     "status": "completed"
    },
    "tags": []
   },
   "source": [
    "## Clean the data\n",
    "#### The dataset contains a few unknown values:"
   ]
  },
  {
   "cell_type": "code",
   "execution_count": 5,
   "id": "2a008575",
   "metadata": {
    "execution": {
     "iopub.execute_input": "2024-10-14T17:09:43.149702Z",
     "iopub.status.busy": "2024-10-14T17:09:43.149277Z",
     "iopub.status.idle": "2024-10-14T17:09:43.160485Z",
     "shell.execute_reply": "2024-10-14T17:09:43.159277Z"
    },
    "papermill": {
     "duration": 0.031803,
     "end_time": "2024-10-14T17:09:43.162758",
     "exception": false,
     "start_time": "2024-10-14T17:09:43.130955",
     "status": "completed"
    },
    "tags": []
   },
   "outputs": [
    {
     "data": {
      "text/plain": [
       "MPG             0\n",
       "Cylinders       0\n",
       "Displacement    0\n",
       "Horsepower      6\n",
       "Weight          0\n",
       "Acceleration    0\n",
       "Model Year      0\n",
       "Origin          0\n",
       "dtype: int64"
      ]
     },
     "execution_count": 5,
     "metadata": {},
     "output_type": "execute_result"
    }
   ],
   "source": [
    "dataset.isna().sum()"
   ]
  },
  {
   "cell_type": "markdown",
   "id": "11dcf331",
   "metadata": {
    "papermill": {
     "duration": 0.017517,
     "end_time": "2024-10-14T17:09:43.197682",
     "exception": false,
     "start_time": "2024-10-14T17:09:43.180165",
     "status": "completed"
    },
    "tags": []
   },
   "source": [
    "#### Drop those rows to keep this initial tutorial simple:"
   ]
  },
  {
   "cell_type": "code",
   "execution_count": 6,
   "id": "b20ee6ba",
   "metadata": {
    "execution": {
     "iopub.execute_input": "2024-10-14T17:09:43.234321Z",
     "iopub.status.busy": "2024-10-14T17:09:43.233909Z",
     "iopub.status.idle": "2024-10-14T17:09:43.244552Z",
     "shell.execute_reply": "2024-10-14T17:09:43.243415Z"
    },
    "papermill": {
     "duration": 0.031475,
     "end_time": "2024-10-14T17:09:43.246727",
     "exception": false,
     "start_time": "2024-10-14T17:09:43.215252",
     "status": "completed"
    },
    "tags": []
   },
   "outputs": [],
   "source": [
    "dataset = dataset.dropna()"
   ]
  },
  {
   "cell_type": "markdown",
   "id": "c0144c8d",
   "metadata": {
    "papermill": {
     "duration": 0.017009,
     "end_time": "2024-10-14T17:09:43.281274",
     "exception": false,
     "start_time": "2024-10-14T17:09:43.264265",
     "status": "completed"
    },
    "tags": []
   },
   "source": [
    "#### The \"Origin\" column is categorical, not numeric. So the next step is to one-hot encode the values in the column with pd.get_dummies."
   ]
  },
  {
   "cell_type": "code",
   "execution_count": 7,
   "id": "ffe3f986",
   "metadata": {
    "execution": {
     "iopub.execute_input": "2024-10-14T17:09:43.317517Z",
     "iopub.status.busy": "2024-10-14T17:09:43.317110Z",
     "iopub.status.idle": "2024-10-14T17:09:43.345293Z",
     "shell.execute_reply": "2024-10-14T17:09:43.344027Z"
    },
    "papermill": {
     "duration": 0.049042,
     "end_time": "2024-10-14T17:09:43.347501",
     "exception": false,
     "start_time": "2024-10-14T17:09:43.298459",
     "status": "completed"
    },
    "tags": []
   },
   "outputs": [
    {
     "data": {
      "text/html": [
       "<div>\n",
       "<style scoped>\n",
       "    .dataframe tbody tr th:only-of-type {\n",
       "        vertical-align: middle;\n",
       "    }\n",
       "\n",
       "    .dataframe tbody tr th {\n",
       "        vertical-align: top;\n",
       "    }\n",
       "\n",
       "    .dataframe thead th {\n",
       "        text-align: right;\n",
       "    }\n",
       "</style>\n",
       "<table border=\"1\" class=\"dataframe\">\n",
       "  <thead>\n",
       "    <tr style=\"text-align: right;\">\n",
       "      <th></th>\n",
       "      <th>MPG</th>\n",
       "      <th>Cylinders</th>\n",
       "      <th>Displacement</th>\n",
       "      <th>Horsepower</th>\n",
       "      <th>Weight</th>\n",
       "      <th>Acceleration</th>\n",
       "      <th>Model Year</th>\n",
       "      <th>Europe</th>\n",
       "      <th>Japan</th>\n",
       "      <th>USA</th>\n",
       "    </tr>\n",
       "  </thead>\n",
       "  <tbody>\n",
       "    <tr>\n",
       "      <th>393</th>\n",
       "      <td>27.0</td>\n",
       "      <td>4</td>\n",
       "      <td>140.0</td>\n",
       "      <td>86.0</td>\n",
       "      <td>2790.0</td>\n",
       "      <td>15.6</td>\n",
       "      <td>82</td>\n",
       "      <td>False</td>\n",
       "      <td>False</td>\n",
       "      <td>True</td>\n",
       "    </tr>\n",
       "    <tr>\n",
       "      <th>394</th>\n",
       "      <td>44.0</td>\n",
       "      <td>4</td>\n",
       "      <td>97.0</td>\n",
       "      <td>52.0</td>\n",
       "      <td>2130.0</td>\n",
       "      <td>24.6</td>\n",
       "      <td>82</td>\n",
       "      <td>True</td>\n",
       "      <td>False</td>\n",
       "      <td>False</td>\n",
       "    </tr>\n",
       "    <tr>\n",
       "      <th>395</th>\n",
       "      <td>32.0</td>\n",
       "      <td>4</td>\n",
       "      <td>135.0</td>\n",
       "      <td>84.0</td>\n",
       "      <td>2295.0</td>\n",
       "      <td>11.6</td>\n",
       "      <td>82</td>\n",
       "      <td>False</td>\n",
       "      <td>False</td>\n",
       "      <td>True</td>\n",
       "    </tr>\n",
       "    <tr>\n",
       "      <th>396</th>\n",
       "      <td>28.0</td>\n",
       "      <td>4</td>\n",
       "      <td>120.0</td>\n",
       "      <td>79.0</td>\n",
       "      <td>2625.0</td>\n",
       "      <td>18.6</td>\n",
       "      <td>82</td>\n",
       "      <td>False</td>\n",
       "      <td>False</td>\n",
       "      <td>True</td>\n",
       "    </tr>\n",
       "    <tr>\n",
       "      <th>397</th>\n",
       "      <td>31.0</td>\n",
       "      <td>4</td>\n",
       "      <td>119.0</td>\n",
       "      <td>82.0</td>\n",
       "      <td>2720.0</td>\n",
       "      <td>19.4</td>\n",
       "      <td>82</td>\n",
       "      <td>False</td>\n",
       "      <td>False</td>\n",
       "      <td>True</td>\n",
       "    </tr>\n",
       "  </tbody>\n",
       "</table>\n",
       "</div>"
      ],
      "text/plain": [
       "      MPG  Cylinders  Displacement  Horsepower  Weight  Acceleration  \\\n",
       "393  27.0          4         140.0        86.0  2790.0          15.6   \n",
       "394  44.0          4          97.0        52.0  2130.0          24.6   \n",
       "395  32.0          4         135.0        84.0  2295.0          11.6   \n",
       "396  28.0          4         120.0        79.0  2625.0          18.6   \n",
       "397  31.0          4         119.0        82.0  2720.0          19.4   \n",
       "\n",
       "     Model Year  Europe  Japan    USA  \n",
       "393          82   False  False   True  \n",
       "394          82    True  False  False  \n",
       "395          82   False  False   True  \n",
       "396          82   False  False   True  \n",
       "397          82   False  False   True  "
      ]
     },
     "execution_count": 7,
     "metadata": {},
     "output_type": "execute_result"
    }
   ],
   "source": [
    "dataset['Origin'] = dataset['Origin'].map({1: 'USA', 2: 'Europe', 3: 'Japan'})\n",
    "dataset = pd.get_dummies(dataset, columns=['Origin'], prefix='', prefix_sep='')\n",
    "dataset.tail()"
   ]
  },
  {
   "cell_type": "markdown",
   "id": "06a98d50",
   "metadata": {
    "papermill": {
     "duration": 0.017682,
     "end_time": "2024-10-14T17:09:43.382807",
     "exception": false,
     "start_time": "2024-10-14T17:09:43.365125",
     "status": "completed"
    },
    "tags": []
   },
   "source": [
    "## Split the data into training and test sets\n",
    "#### Now, split the dataset into a training set and a test set. You will use the test set in the final evaluation of your models."
   ]
  },
  {
   "cell_type": "code",
   "execution_count": 8,
   "id": "c6b5901e",
   "metadata": {
    "execution": {
     "iopub.execute_input": "2024-10-14T17:09:43.419429Z",
     "iopub.status.busy": "2024-10-14T17:09:43.419022Z",
     "iopub.status.idle": "2024-10-14T17:09:43.427084Z",
     "shell.execute_reply": "2024-10-14T17:09:43.425991Z"
    },
    "papermill": {
     "duration": 0.029114,
     "end_time": "2024-10-14T17:09:43.429311",
     "exception": false,
     "start_time": "2024-10-14T17:09:43.400197",
     "status": "completed"
    },
    "tags": []
   },
   "outputs": [],
   "source": [
    "train_dataset = dataset.sample(frac=0.8, random_state=0)\n",
    "test_dataset = dataset.drop(train_dataset.index)"
   ]
  },
  {
   "cell_type": "markdown",
   "id": "42e91716",
   "metadata": {
    "papermill": {
     "duration": 0.017174,
     "end_time": "2024-10-14T17:09:43.464077",
     "exception": false,
     "start_time": "2024-10-14T17:09:43.446903",
     "status": "completed"
    },
    "tags": []
   },
   "source": [
    "## Inspect the data\n",
    "#### Review the joint distribution of a few pairs of columns from the training set.\n",
    "\n",
    "#### The top row suggests that the fuel efficiency (MPG) is a function of all the other parameters. The other rows indicate they are functions of each other."
   ]
  },
  {
   "cell_type": "code",
   "execution_count": 9,
   "id": "c9320a88",
   "metadata": {
    "execution": {
     "iopub.execute_input": "2024-10-14T17:09:43.500510Z",
     "iopub.status.busy": "2024-10-14T17:09:43.500111Z",
     "iopub.status.idle": "2024-10-14T17:09:47.973630Z",
     "shell.execute_reply": "2024-10-14T17:09:47.972523Z"
    },
    "papermill": {
     "duration": 4.495331,
     "end_time": "2024-10-14T17:09:47.976745",
     "exception": false,
     "start_time": "2024-10-14T17:09:43.481414",
     "status": "completed"
    },
    "tags": []
   },
   "outputs": [
    {
     "data": {
      "text/plain": [
       "<seaborn.axisgrid.PairGrid at 0x7cfe1b585630>"
      ]
     },
     "execution_count": 9,
     "metadata": {},
     "output_type": "execute_result"
    },
    {
     "data": {
      "image/png": "[encoded data removed]",
      "text/plain": [
       "<Figure size 1000x1000 with 20 Axes>"
      ]
     },
     "metadata": {},
     "output_type": "display_data"
    }
   ],
   "source": [
    "sns.pairplot(train_dataset[['MPG', 'Cylinders', 'Displacement', 'Weight']], diag_kind='kde')"
   ]
  },
  {
   "cell_type": "markdown",
   "id": "2a383d5d",
   "metadata": {
    "papermill": {
     "duration": 0.021974,
     "end_time": "2024-10-14T17:09:48.020539",
     "exception": false,
     "start_time": "2024-10-14T17:09:47.998565",
     "status": "completed"
    },
    "tags": []
   },
   "source": [
    "#### Let's also check the overall statistics. Note how each feature covers a very different range:"
   ]
  },
  {
   "cell_type": "code",
   "execution_count": 10,
   "id": "e3d5f33d",
   "metadata": {
    "execution": {
     "iopub.execute_input": "2024-10-14T17:09:48.063348Z",
     "iopub.status.busy": "2024-10-14T17:09:48.062304Z",
     "iopub.status.idle": "2024-10-14T17:09:48.094199Z",
     "shell.execute_reply": "2024-10-14T17:09:48.092937Z"
    },
    "papermill": {
     "duration": 0.055763,
     "end_time": "2024-10-14T17:09:48.096459",
     "exception": false,
     "start_time": "2024-10-14T17:09:48.040696",
     "status": "completed"
    },
    "tags": []
   },
   "outputs": [
    {
     "data": {
      "text/html": [
       "<div>\n",
       "<style scoped>\n",
       "    .dataframe tbody tr th:only-of-type {\n",
       "        vertical-align: middle;\n",
       "    }\n",
       "\n",
       "    .dataframe tbody tr th {\n",
       "        vertical-align: top;\n",
       "    }\n",
       "\n",
       "    .dataframe thead th {\n",
       "        text-align: right;\n",
       "    }\n",
       "</style>\n",
       "<table border=\"1\" class=\"dataframe\">\n",
       "  <thead>\n",
       "    <tr style=\"text-align: right;\">\n",
       "      <th></th>\n",
       "      <th>count</th>\n",
       "      <th>mean</th>\n",
       "      <th>std</th>\n",
       "      <th>min</th>\n",
       "      <th>25%</th>\n",
       "      <th>50%</th>\n",
       "      <th>75%</th>\n",
       "      <th>max</th>\n",
       "    </tr>\n",
       "  </thead>\n",
       "  <tbody>\n",
       "    <tr>\n",
       "      <th>MPG</th>\n",
       "      <td>314.0</td>\n",
       "      <td>23.310510</td>\n",
       "      <td>7.728652</td>\n",
       "      <td>10.0</td>\n",
       "      <td>17.00</td>\n",
       "      <td>22.0</td>\n",
       "      <td>28.95</td>\n",
       "      <td>46.6</td>\n",
       "    </tr>\n",
       "    <tr>\n",
       "      <th>Cylinders</th>\n",
       "      <td>314.0</td>\n",
       "      <td>5.477707</td>\n",
       "      <td>1.699788</td>\n",
       "      <td>3.0</td>\n",
       "      <td>4.00</td>\n",
       "      <td>4.0</td>\n",
       "      <td>8.00</td>\n",
       "      <td>8.0</td>\n",
       "    </tr>\n",
       "    <tr>\n",
       "      <th>Displacement</th>\n",
       "      <td>314.0</td>\n",
       "      <td>195.318471</td>\n",
       "      <td>104.331589</td>\n",
       "      <td>68.0</td>\n",
       "      <td>105.50</td>\n",
       "      <td>151.0</td>\n",
       "      <td>265.75</td>\n",
       "      <td>455.0</td>\n",
       "    </tr>\n",
       "    <tr>\n",
       "      <th>Horsepower</th>\n",
       "      <td>314.0</td>\n",
       "      <td>104.869427</td>\n",
       "      <td>38.096214</td>\n",
       "      <td>46.0</td>\n",
       "      <td>76.25</td>\n",
       "      <td>94.5</td>\n",
       "      <td>128.00</td>\n",
       "      <td>225.0</td>\n",
       "    </tr>\n",
       "    <tr>\n",
       "      <th>Weight</th>\n",
       "      <td>314.0</td>\n",
       "      <td>2990.251592</td>\n",
       "      <td>843.898596</td>\n",
       "      <td>1649.0</td>\n",
       "      <td>2256.50</td>\n",
       "      <td>2822.5</td>\n",
       "      <td>3608.00</td>\n",
       "      <td>5140.0</td>\n",
       "    </tr>\n",
       "    <tr>\n",
       "      <th>Acceleration</th>\n",
       "      <td>314.0</td>\n",
       "      <td>15.559236</td>\n",
       "      <td>2.789230</td>\n",
       "      <td>8.0</td>\n",
       "      <td>13.80</td>\n",
       "      <td>15.5</td>\n",
       "      <td>17.20</td>\n",
       "      <td>24.8</td>\n",
       "    </tr>\n",
       "    <tr>\n",
       "      <th>Model Year</th>\n",
       "      <td>314.0</td>\n",
       "      <td>75.898089</td>\n",
       "      <td>3.675642</td>\n",
       "      <td>70.0</td>\n",
       "      <td>73.00</td>\n",
       "      <td>76.0</td>\n",
       "      <td>79.00</td>\n",
       "      <td>82.0</td>\n",
       "    </tr>\n",
       "  </tbody>\n",
       "</table>\n",
       "</div>"
      ],
      "text/plain": [
       "              count         mean         std     min      25%     50%  \\\n",
       "MPG           314.0    23.310510    7.728652    10.0    17.00    22.0   \n",
       "Cylinders     314.0     5.477707    1.699788     3.0     4.00     4.0   \n",
       "Displacement  314.0   195.318471  104.331589    68.0   105.50   151.0   \n",
       "Horsepower    314.0   104.869427   38.096214    46.0    76.25    94.5   \n",
       "Weight        314.0  2990.251592  843.898596  1649.0  2256.50  2822.5   \n",
       "Acceleration  314.0    15.559236    2.789230     8.0    13.80    15.5   \n",
       "Model Year    314.0    75.898089    3.675642    70.0    73.00    76.0   \n",
       "\n",
       "                  75%     max  \n",
       "MPG             28.95    46.6  \n",
       "Cylinders        8.00     8.0  \n",
       "Displacement   265.75   455.0  \n",
       "Horsepower     128.00   225.0  \n",
       "Weight        3608.00  5140.0  \n",
       "Acceleration    17.20    24.8  \n",
       "Model Year      79.00    82.0  "
      ]
     },
     "execution_count": 10,
     "metadata": {},
     "output_type": "execute_result"
    }
   ],
   "source": [
    "train_dataset.describe().transpose()"
   ]
  },
  {
   "cell_type": "markdown",
   "id": "d0d1d234",
   "metadata": {
    "papermill": {
     "duration": 0.020352,
     "end_time": "2024-10-14T17:09:48.137557",
     "exception": false,
     "start_time": "2024-10-14T17:09:48.117205",
     "status": "completed"
    },
    "tags": []
   },
   "source": [
    "## Split features from labels\n",
    "#### Separate the target value—the \"label\"—from the features. This label is the value that you will train the model to predict."
   ]
  },
  {
   "cell_type": "code",
   "execution_count": 11,
   "id": "f27e7c5b",
   "metadata": {
    "execution": {
     "iopub.execute_input": "2024-10-14T17:09:48.181016Z",
     "iopub.status.busy": "2024-10-14T17:09:48.180570Z",
     "iopub.status.idle": "2024-10-14T17:09:48.187409Z",
     "shell.execute_reply": "2024-10-14T17:09:48.186424Z"
    },
    "papermill": {
     "duration": 0.030826,
     "end_time": "2024-10-14T17:09:48.189502",
     "exception": false,
     "start_time": "2024-10-14T17:09:48.158676",
     "status": "completed"
    },
    "tags": []
   },
   "outputs": [],
   "source": [
    "train_features = train_dataset.copy()\n",
    "test_features = test_dataset.copy()\n",
    "\n",
    "train_labels = train_features.pop('MPG')\n",
    "test_labels = test_features.pop('MPG')"
   ]
  },
  {
   "cell_type": "markdown",
   "id": "93e57d34",
   "metadata": {
    "papermill": {
     "duration": 0.020573,
     "end_time": "2024-10-14T17:09:48.230739",
     "exception": false,
     "start_time": "2024-10-14T17:09:48.210166",
     "status": "completed"
    },
    "tags": []
   },
   "source": [
    "## Normalization\n",
    "#### In the table of statistics it's easy to see how different the ranges of each feature are:"
   ]
  },
  {
   "cell_type": "code",
   "execution_count": 12,
   "id": "4b3f01b2",
   "metadata": {
    "execution": {
     "iopub.execute_input": "2024-10-14T17:09:48.273701Z",
     "iopub.status.busy": "2024-10-14T17:09:48.273281Z",
     "iopub.status.idle": "2024-10-14T17:09:48.298538Z",
     "shell.execute_reply": "2024-10-14T17:09:48.297461Z"
    },
    "papermill": {
     "duration": 0.04945,
     "end_time": "2024-10-14T17:09:48.300910",
     "exception": false,
     "start_time": "2024-10-14T17:09:48.251460",
     "status": "completed"
    },
    "tags": []
   },
   "outputs": [
    {
     "data": {
      "text/html": [
       "<div>\n",
       "<style scoped>\n",
       "    .dataframe tbody tr th:only-of-type {\n",
       "        vertical-align: middle;\n",
       "    }\n",
       "\n",
       "    .dataframe tbody tr th {\n",
       "        vertical-align: top;\n",
       "    }\n",
       "\n",
       "    .dataframe thead th {\n",
       "        text-align: right;\n",
       "    }\n",
       "</style>\n",
       "<table border=\"1\" class=\"dataframe\">\n",
       "  <thead>\n",
       "    <tr style=\"text-align: right;\">\n",
       "      <th></th>\n",
       "      <th>mean</th>\n",
       "      <th>std</th>\n",
       "    </tr>\n",
       "  </thead>\n",
       "  <tbody>\n",
       "    <tr>\n",
       "      <th>MPG</th>\n",
       "      <td>23.310510</td>\n",
       "      <td>7.728652</td>\n",
       "    </tr>\n",
       "    <tr>\n",
       "      <th>Cylinders</th>\n",
       "      <td>5.477707</td>\n",
       "      <td>1.699788</td>\n",
       "    </tr>\n",
       "    <tr>\n",
       "      <th>Displacement</th>\n",
       "      <td>195.318471</td>\n",
       "      <td>104.331589</td>\n",
       "    </tr>\n",
       "    <tr>\n",
       "      <th>Horsepower</th>\n",
       "      <td>104.869427</td>\n",
       "      <td>38.096214</td>\n",
       "    </tr>\n",
       "    <tr>\n",
       "      <th>Weight</th>\n",
       "      <td>2990.251592</td>\n",
       "      <td>843.898596</td>\n",
       "    </tr>\n",
       "    <tr>\n",
       "      <th>Acceleration</th>\n",
       "      <td>15.559236</td>\n",
       "      <td>2.789230</td>\n",
       "    </tr>\n",
       "    <tr>\n",
       "      <th>Model Year</th>\n",
       "      <td>75.898089</td>\n",
       "      <td>3.675642</td>\n",
       "    </tr>\n",
       "  </tbody>\n",
       "</table>\n",
       "</div>"
      ],
      "text/plain": [
       "                     mean         std\n",
       "MPG             23.310510    7.728652\n",
       "Cylinders        5.477707    1.699788\n",
       "Displacement   195.318471  104.331589\n",
       "Horsepower     104.869427   38.096214\n",
       "Weight        2990.251592  843.898596\n",
       "Acceleration    15.559236    2.789230\n",
       "Model Year      75.898089    3.675642"
      ]
     },
     "execution_count": 12,
     "metadata": {},
     "output_type": "execute_result"
    }
   ],
   "source": [
    "train_dataset.describe().transpose()[['mean', 'std']]"
   ]
  },
  {
   "cell_type": "markdown",
   "id": "6467e9e9",
   "metadata": {
    "papermill": {
     "duration": 0.020541,
     "end_time": "2024-10-14T17:09:48.342583",
     "exception": false,
     "start_time": "2024-10-14T17:09:48.322042",
     "status": "completed"
    },
    "tags": []
   },
   "source": [
    "#### It is good practice to normalize features that use different scales and ranges.\n",
    "\n",
    "#### One reason this is important is because the features are multiplied by the model weights. So, the scale of the outputs and the scale of the gradients are affected by the scale of the inputs.\n",
    "\n",
    "#### Although a model might converge without feature normalization, normalization makes training much more stable."
   ]
  },
  {
   "cell_type": "markdown",
   "id": "3926f7a9",
   "metadata": {
    "papermill": {
     "duration": 0.020673,
     "end_time": "2024-10-14T17:09:48.384141",
     "exception": false,
     "start_time": "2024-10-14T17:09:48.363468",
     "status": "completed"
    },
    "tags": []
   },
   "source": [
    "## The Normalization layer\n",
    "#### The tf.keras.layers.Normalization is a clean and simple way to add feature normalization into your model.\n",
    "\n",
    "#### The first step is to create the layer:"
   ]
  },
  {
   "cell_type": "code",
   "execution_count": 13,
   "id": "c5344cc1",
   "metadata": {
    "execution": {
     "iopub.execute_input": "2024-10-14T17:09:48.427652Z",
     "iopub.status.busy": "2024-10-14T17:09:48.427246Z",
     "iopub.status.idle": "2024-10-14T17:09:48.434477Z",
     "shell.execute_reply": "2024-10-14T17:09:48.433288Z"
    },
    "papermill": {
     "duration": 0.031602,
     "end_time": "2024-10-14T17:09:48.436756",
     "exception": false,
     "start_time": "2024-10-14T17:09:48.405154",
     "status": "completed"
    },
    "tags": []
   },
   "outputs": [],
   "source": [
    "normalizer = tf.keras.layers.Normalization(axis=-1)"
   ]
  },
  {
   "cell_type": "markdown",
   "id": "d8d0ab99",
   "metadata": {
    "papermill": {
     "duration": 0.020113,
     "end_time": "2024-10-14T17:09:48.477678",
     "exception": false,
     "start_time": "2024-10-14T17:09:48.457565",
     "status": "completed"
    },
    "tags": []
   },
   "source": [
    "#### Then, fit the state of the preprocessing layer to the data by calling Normalization.adapt:"
   ]
  },
  {
   "cell_type": "code",
   "execution_count": 14,
   "id": "227e2120",
   "metadata": {
    "execution": {
     "iopub.execute_input": "2024-10-14T17:09:48.520365Z",
     "iopub.status.busy": "2024-10-14T17:09:48.519946Z",
     "iopub.status.idle": "2024-10-14T17:09:48.593805Z",
     "shell.execute_reply": "2024-10-14T17:09:48.592677Z"
    },
    "papermill": {
     "duration": 0.098226,
     "end_time": "2024-10-14T17:09:48.596368",
     "exception": false,
     "start_time": "2024-10-14T17:09:48.498142",
     "status": "completed"
    },
    "tags": []
   },
   "outputs": [],
   "source": [
    "normalizer.adapt(np.array(train_features))"
   ]
  },
  {
   "cell_type": "markdown",
   "id": "5aabcdce",
   "metadata": {
    "papermill": {
     "duration": 0.021517,
     "end_time": "2024-10-14T17:09:48.638659",
     "exception": false,
     "start_time": "2024-10-14T17:09:48.617142",
     "status": "completed"
    },
    "tags": []
   },
   "source": [
    "#### Calculate the mean and variance, and store them in the layer:"
   ]
  },
  {
   "cell_type": "code",
   "execution_count": 15,
   "id": "5d52ed01",
   "metadata": {
    "execution": {
     "iopub.execute_input": "2024-10-14T17:09:48.683322Z",
     "iopub.status.busy": "2024-10-14T17:09:48.682377Z",
     "iopub.status.idle": "2024-10-14T17:09:48.688534Z",
     "shell.execute_reply": "2024-10-14T17:09:48.687490Z"
    },
    "papermill": {
     "duration": 0.031083,
     "end_time": "2024-10-14T17:09:48.690811",
     "exception": false,
     "start_time": "2024-10-14T17:09:48.659728",
     "status": "completed"
    },
    "tags": []
   },
   "outputs": [
    {
     "name": "stdout",
     "output_type": "stream",
     "text": [
      "[[   5.478  195.318  104.869 2990.252   15.559   75.898    0.178    0.197\n",
      "     0.624]]\n"
     ]
    }
   ],
   "source": [
    "print(normalizer.mean.numpy())"
   ]
  },
  {
   "cell_type": "markdown",
   "id": "d43d6ea2",
   "metadata": {
    "papermill": {
     "duration": 0.021357,
     "end_time": "2024-10-14T17:09:48.733735",
     "exception": false,
     "start_time": "2024-10-14T17:09:48.712378",
     "status": "completed"
    },
    "tags": []
   },
   "source": [
    "#### When the layer is called, it returns the input data, with each feature independently normalized:"
   ]
  },
  {
   "cell_type": "code",
   "execution_count": 16,
   "id": "03f6e2c3",
   "metadata": {
    "execution": {
     "iopub.execute_input": "2024-10-14T17:09:48.778774Z",
     "iopub.status.busy": "2024-10-14T17:09:48.778362Z",
     "iopub.status.idle": "2024-10-14T17:09:48.798530Z",
     "shell.execute_reply": "2024-10-14T17:09:48.797130Z"
    },
    "papermill": {
     "duration": 0.045099,
     "end_time": "2024-10-14T17:09:48.800921",
     "exception": false,
     "start_time": "2024-10-14T17:09:48.755822",
     "status": "completed"
    },
    "tags": []
   },
   "outputs": [
    {
     "name": "stdout",
     "output_type": "stream",
     "text": [
      "First example: [[4 90.0 75.0 2125.0 14.5 74 False False True]]\n",
      "\n",
      "Normalized: [[-0.87 -1.01 -0.79 -1.03 -0.38 -0.52 -0.47 -0.5   0.78]]\n"
     ]
    }
   ],
   "source": [
    "first = np.array(train_features[:1])\n",
    "\n",
    "with np.printoptions(precision=2, suppress=True):\n",
    "  print('First example:', first)\n",
    "  print()\n",
    "  print('Normalized:', normalizer(first).numpy())"
   ]
  },
  {
   "cell_type": "markdown",
   "id": "2082ea31",
   "metadata": {
    "papermill": {
     "duration": 0.020749,
     "end_time": "2024-10-14T17:09:48.842511",
     "exception": false,
     "start_time": "2024-10-14T17:09:48.821762",
     "status": "completed"
    },
    "tags": []
   },
   "source": [
    "# Linear regression\n",
    "#### Before building a deep neural network model, start with linear regression using one and several variables.\n",
    "\n",
    "## Linear regression with one variable\n",
    "#### Begin with a single-variable linear regression to predict 'MPG' from 'Horsepower'.\n",
    "\n",
    "#### Training a model with tf.keras typically starts by defining the model architecture. Use a tf.keras.Sequential model, which represents a sequence of steps.\n",
    "\n",
    "#### There are two steps in your single-variable linear regression model:\n",
    " * Normalize the 'Horsepower' input features using the tf.keras.layers.Normalization preprocessing layer.\n",
    " * Apply a linear transformation to produce 1 output using a linear layer (tf.keras.layers.Dense).\n",
    "\n",
    "#### The number of inputs can either be set by the input_shape argument, or automatically when the model is run for the first time.\n",
    "\n",
    "#### First, create a NumPy array made of the 'Horsepower' features. Then, instantiate the tf.keras.layers.Normalization and fit its state to the horsepower data:\n"
   ]
  },
  {
   "cell_type": "code",
   "execution_count": 17,
   "id": "44c837a2",
   "metadata": {
    "execution": {
     "iopub.execute_input": "2024-10-14T17:09:48.885829Z",
     "iopub.status.busy": "2024-10-14T17:09:48.885393Z",
     "iopub.status.idle": "2024-10-14T17:09:48.903038Z",
     "shell.execute_reply": "2024-10-14T17:09:48.902076Z"
    },
    "papermill": {
     "duration": 0.0421,
     "end_time": "2024-10-14T17:09:48.905405",
     "exception": false,
     "start_time": "2024-10-14T17:09:48.863305",
     "status": "completed"
    },
    "tags": []
   },
   "outputs": [],
   "source": [
    "horsepower = np.array(train_features['Horsepower'])\n",
    "\n",
    "horsepower_normalizer = layers.Normalization(input_shape=[1,], axis=None)\n",
    "horsepower_normalizer.adapt(horsepower)"
   ]
  },
  {
   "cell_type": "markdown",
   "id": "cbb2c6fc",
   "metadata": {
    "papermill": {
     "duration": 0.021149,
     "end_time": "2024-10-14T17:09:48.947397",
     "exception": false,
     "start_time": "2024-10-14T17:09:48.926248",
     "status": "completed"
    },
    "tags": []
   },
   "source": [
    "#### Build the Keras Sequential model:\n",
    "\n"
   ]
  },
  {
   "cell_type": "code",
   "execution_count": 18,
   "id": "2e2ed20a",
   "metadata": {
    "execution": {
     "iopub.execute_input": "2024-10-14T17:09:48.990925Z",
     "iopub.status.busy": "2024-10-14T17:09:48.990495Z",
     "iopub.status.idle": "2024-10-14T17:09:49.033145Z",
     "shell.execute_reply": "2024-10-14T17:09:49.032055Z"
    },
    "papermill": {
     "duration": 0.067057,
     "end_time": "2024-10-14T17:09:49.035338",
     "exception": false,
     "start_time": "2024-10-14T17:09:48.968281",
     "status": "completed"
    },
    "tags": []
   },
   "outputs": [
    {
     "data": {
      "text/html": [
       "<pre style=\"white-space:pre;overflow-x:auto;line-height:normal;font-family:Menlo,'DejaVu Sans Mono',consolas,'Courier New',monospace\"><span style=\"font-weight: bold\">Model: \"sequential\"</span>\n",
       "</pre>\n"
      ],
      "text/plain": [
       "\u001b[1mModel: \"sequential\"\u001b[0m\n"
      ]
     },
     "metadata": {},
     "output_type": "display_data"
    },
    {
     "data": {
      "text/html": [
       "<pre style=\"white-space:pre;overflow-x:auto;line-height:normal;font-family:Menlo,'DejaVu Sans Mono',consolas,'Courier New',monospace\">┏━━━━━━━━━━━━━━━━━━━━━━━━━━━━━━━━━┳━━━━━━━━━━━━━━━━━━━━━━━━┳━━━━━━━━━━━━━━━┓\n",
       "┃<span style=\"font-weight: bold\"> Layer (type)                    </span>┃<span style=\"font-weight: bold\"> Output Shape           </span>┃<span style=\"font-weight: bold\">       Param # </span>┃\n",
       "┡━━━━━━━━━━━━━━━━━━━━━━━━━━━━━━━━━╇━━━━━━━━━━━━━━━━━━━━━━━━╇━━━━━━━━━━━━━━━┩\n",
       "│ normalization_1 (<span style=\"color: #0087ff; text-decoration-color: #0087ff\">Normalization</span>) │ (<span style=\"color: #00d7ff; text-decoration-color: #00d7ff\">None</span>, <span style=\"color: #00af00; text-decoration-color: #00af00\">1</span>)              │             <span style=\"color: #00af00; text-decoration-color: #00af00\">3</span> │\n",
       "├─────────────────────────────────┼────────────────────────┼───────────────┤\n",
       "│ dense (<span style=\"color: #0087ff; text-decoration-color: #0087ff\">Dense</span>)                   │ (<span style=\"color: #00d7ff; text-decoration-color: #00d7ff\">None</span>, <span style=\"color: #00af00; text-decoration-color: #00af00\">1</span>)              │             <span style=\"color: #00af00; text-decoration-color: #00af00\">2</span> │\n",
       "└─────────────────────────────────┴────────────────────────┴───────────────┘\n",
       "</pre>\n"
      ],
      "text/plain": [
       "┏━━━━━━━━━━━━━━━━━━━━━━━━━━━━━━━━━┳━━━━━━━━━━━━━━━━━━━━━━━━┳━━━━━━━━━━━━━━━┓\n",
       "┃\u001b[1m \u001b[0m\u001b[1mLayer (type)                   \u001b[0m\u001b[1m \u001b[0m┃\u001b[1m \u001b[0m\u001b[1mOutput Shape          \u001b[0m\u001b[1m \u001b[0m┃\u001b[1m \u001b[0m\u001b[1m      Param #\u001b[0m\u001b[1m \u001b[0m┃\n",
       "┡━━━━━━━━━━━━━━━━━━━━━━━━━━━━━━━━━╇━━━━━━━━━━━━━━━━━━━━━━━━╇━━━━━━━━━━━━━━━┩\n",
       "│ normalization_1 (\u001b[38;5;33mNormalization\u001b[0m) │ (\u001b[38;5;45mNone\u001b[0m, \u001b[38;5;34m1\u001b[0m)              │             \u001b[38;5;34m3\u001b[0m │\n",
       "├─────────────────────────────────┼────────────────────────┼───────────────┤\n",
       "│ dense (\u001b[38;5;33mDense\u001b[0m)                   │ (\u001b[38;5;45mNone\u001b[0m, \u001b[38;5;34m1\u001b[0m)              │             \u001b[38;5;34m2\u001b[0m │\n",
       "└─────────────────────────────────┴────────────────────────┴───────────────┘\n"
      ]
     },
     "metadata": {},
     "output_type": "display_data"
    },
    {
     "data": {
      "text/html": [
       "<pre style=\"white-space:pre;overflow-x:auto;line-height:normal;font-family:Menlo,'DejaVu Sans Mono',consolas,'Courier New',monospace\"><span style=\"font-weight: bold\"> Total params: </span><span style=\"color: #00af00; text-decoration-color: #00af00\">5</span> (24.00 B)\n",
       "</pre>\n"
      ],
      "text/plain": [
       "\u001b[1m Total params: \u001b[0m\u001b[38;5;34m5\u001b[0m (24.00 B)\n"
      ]
     },
     "metadata": {},
     "output_type": "display_data"
    },
    {
     "data": {
      "text/html": [
       "<pre style=\"white-space:pre;overflow-x:auto;line-height:normal;font-family:Menlo,'DejaVu Sans Mono',consolas,'Courier New',monospace\"><span style=\"font-weight: bold\"> Trainable params: </span><span style=\"color: #00af00; text-decoration-color: #00af00\">2</span> (8.00 B)\n",
       "</pre>\n"
      ],
      "text/plain": [
       "\u001b[1m Trainable params: \u001b[0m\u001b[38;5;34m2\u001b[0m (8.00 B)\n"
      ]
     },
     "metadata": {},
     "output_type": "display_data"
    },
    {
     "data": {
      "text/html": [
       "<pre style=\"white-space:pre;overflow-x:auto;line-height:normal;font-family:Menlo,'DejaVu Sans Mono',consolas,'Courier New',monospace\"><span style=\"font-weight: bold\"> Non-trainable params: </span><span style=\"color: #00af00; text-decoration-color: #00af00\">3</span> (16.00 B)\n",
       "</pre>\n"
      ],
      "text/plain": [
       "\u001b[1m Non-trainable params: \u001b[0m\u001b[38;5;34m3\u001b[0m (16.00 B)\n"
      ]
     },
     "metadata": {},
     "output_type": "display_data"
    }
   ],
   "source": [
    "horsepower_model = tf.keras.Sequential([\n",
    "    horsepower_normalizer,\n",
    "    layers.Dense(units=1)\n",
    "])\n",
    "\n",
    "horsepower_model.summary()"
   ]
  },
  {
   "cell_type": "markdown",
   "id": "d4d1d1c7",
   "metadata": {
    "papermill": {
     "duration": 0.021201,
     "end_time": "2024-10-14T17:09:49.078132",
     "exception": false,
     "start_time": "2024-10-14T17:09:49.056931",
     "status": "completed"
    },
    "tags": []
   },
   "source": [
    "#### This model will predict 'MPG' from 'Horsepower'.\n",
    "\n",
    "#### Run the untrained model on the first 10 'Horsepower' values. The output won't be good, but notice that it has the expected shape of (10, 1):"
   ]
  },
  {
   "cell_type": "code",
   "execution_count": 19,
   "id": "b6c31eab",
   "metadata": {
    "execution": {
     "iopub.execute_input": "2024-10-14T17:09:49.122957Z",
     "iopub.status.busy": "2024-10-14T17:09:49.122176Z",
     "iopub.status.idle": "2024-10-14T17:09:49.289302Z",
     "shell.execute_reply": "2024-10-14T17:09:49.288286Z"
    },
    "papermill": {
     "duration": 0.192131,
     "end_time": "2024-10-14T17:09:49.291557",
     "exception": false,
     "start_time": "2024-10-14T17:09:49.099426",
     "status": "completed"
    },
    "tags": []
   },
   "outputs": [
    {
     "name": "stdout",
     "output_type": "stream",
     "text": [
      "\u001b[1m1/1\u001b[0m \u001b[32m━━━━━━━━━━━━━━━━━━━━\u001b[0m\u001b[37m\u001b[0m \u001b[1m0s\u001b[0m 88ms/step\n"
     ]
    },
    {
     "data": {
      "text/plain": [
       "array([[-1.076],\n",
       "       [-0.608],\n",
       "       [ 1.986],\n",
       "       [-1.508],\n",
       "       [-1.364],\n",
       "       [-0.536],\n",
       "       [-1.616],\n",
       "       [-1.364],\n",
       "       [-0.356],\n",
       "       [-0.608]], dtype=float32)"
      ]
     },
     "execution_count": 19,
     "metadata": {},
     "output_type": "execute_result"
    }
   ],
   "source": [
    "horsepower_model.predict(horsepower[:10])"
   ]
  },
  {
   "cell_type": "markdown",
   "id": "6d72c4aa",
   "metadata": {
    "papermill": {
     "duration": 0.02239,
     "end_time": "2024-10-14T17:09:49.336691",
     "exception": false,
     "start_time": "2024-10-14T17:09:49.314301",
     "status": "completed"
    },
    "tags": []
   },
   "source": [
    "#### Once the model is built, configure the training procedure using the Keras Model.compile method. The most important arguments to compile are the loss and the optimizer, since these define what will be optimized (mean_absolute_error) and how (using the tf.keras.optimizers.Adam)."
   ]
  },
  {
   "cell_type": "code",
   "execution_count": 20,
   "id": "8fcdcd2d",
   "metadata": {
    "execution": {
     "iopub.execute_input": "2024-10-14T17:09:49.436013Z",
     "iopub.status.busy": "2024-10-14T17:09:49.435557Z",
     "iopub.status.idle": "2024-10-14T17:09:49.448704Z",
     "shell.execute_reply": "2024-10-14T17:09:49.447421Z"
    },
    "papermill": {
     "duration": 0.0922,
     "end_time": "2024-10-14T17:09:49.451088",
     "exception": false,
     "start_time": "2024-10-14T17:09:49.358888",
     "status": "completed"
    },
    "tags": []
   },
   "outputs": [],
   "source": [
    "horsepower_model.compile(\n",
    "    optimizer=tf.keras.optimizers.Adam(learning_rate=0.1),\n",
    "    loss='mean_absolute_error')"
   ]
  },
  {
   "cell_type": "markdown",
   "id": "733a7617",
   "metadata": {
    "papermill": {
     "duration": 0.021846,
     "end_time": "2024-10-14T17:09:49.494846",
     "exception": false,
     "start_time": "2024-10-14T17:09:49.473000",
     "status": "completed"
    },
    "tags": []
   },
   "source": [
    "#### Use Keras Model.fit to execute the training for 100 epochs:"
   ]
  },
  {
   "cell_type": "code",
   "execution_count": 21,
   "id": "8f85e1af",
   "metadata": {
    "execution": {
     "iopub.execute_input": "2024-10-14T17:09:49.540255Z",
     "iopub.status.busy": "2024-10-14T17:09:49.539766Z",
     "iopub.status.idle": "2024-10-14T17:09:55.960272Z",
     "shell.execute_reply": "2024-10-14T17:09:55.959294Z"
    },
    "papermill": {
     "duration": 6.446083,
     "end_time": "2024-10-14T17:09:55.962656",
     "exception": false,
     "start_time": "2024-10-14T17:09:49.516573",
     "status": "completed"
    },
    "tags": []
   },
   "outputs": [
    {
     "name": "stdout",
     "output_type": "stream",
     "text": [
      "CPU times: user 6.54 s, sys: 416 ms, total: 6.95 s\n",
      "Wall time: 6.41 s\n"
     ]
    }
   ],
   "source": [
    "%%time\n",
    "history = horsepower_model.fit(\n",
    "    train_features['Horsepower'],\n",
    "    train_labels,\n",
    "    epochs=100,\n",
    "    # Suppress logging.\n",
    "    verbose=0,\n",
    "    # Calculate validation results on 20% of the training data.\n",
    "    validation_split = 0.2)"
   ]
  },
  {
   "cell_type": "markdown",
   "id": "0159bb4b",
   "metadata": {
    "papermill": {
     "duration": 0.021805,
     "end_time": "2024-10-14T17:09:56.006315",
     "exception": false,
     "start_time": "2024-10-14T17:09:55.984510",
     "status": "completed"
    },
    "tags": []
   },
   "source": [
    "#### Visualize the model's training progress using the stats stored in the history object:"
   ]
  },
  {
   "cell_type": "code",
   "execution_count": 22,
   "id": "3f473475",
   "metadata": {
    "execution": {
     "iopub.execute_input": "2024-10-14T17:09:56.051233Z",
     "iopub.status.busy": "2024-10-14T17:09:56.050824Z",
     "iopub.status.idle": "2024-10-14T17:09:56.063125Z",
     "shell.execute_reply": "2024-10-14T17:09:56.062071Z"
    },
    "papermill": {
     "duration": 0.037206,
     "end_time": "2024-10-14T17:09:56.065225",
     "exception": false,
     "start_time": "2024-10-14T17:09:56.028019",
     "status": "completed"
    },
    "tags": []
   },
   "outputs": [
    {
     "data": {
      "text/html": [
       "<div>\n",
       "<style scoped>\n",
       "    .dataframe tbody tr th:only-of-type {\n",
       "        vertical-align: middle;\n",
       "    }\n",
       "\n",
       "    .dataframe tbody tr th {\n",
       "        vertical-align: top;\n",
       "    }\n",
       "\n",
       "    .dataframe thead th {\n",
       "        text-align: right;\n",
       "    }\n",
       "</style>\n",
       "<table border=\"1\" class=\"dataframe\">\n",
       "  <thead>\n",
       "    <tr style=\"text-align: right;\">\n",
       "      <th></th>\n",
       "      <th>loss</th>\n",
       "      <th>val_loss</th>\n",
       "      <th>epoch</th>\n",
       "    </tr>\n",
       "  </thead>\n",
       "  <tbody>\n",
       "    <tr>\n",
       "      <th>95</th>\n",
       "      <td>3.810304</td>\n",
       "      <td>4.184365</td>\n",
       "      <td>95</td>\n",
       "    </tr>\n",
       "    <tr>\n",
       "      <th>96</th>\n",
       "      <td>3.805131</td>\n",
       "      <td>4.181530</td>\n",
       "      <td>96</td>\n",
       "    </tr>\n",
       "    <tr>\n",
       "      <th>97</th>\n",
       "      <td>3.809725</td>\n",
       "      <td>4.221963</td>\n",
       "      <td>97</td>\n",
       "    </tr>\n",
       "    <tr>\n",
       "      <th>98</th>\n",
       "      <td>3.802986</td>\n",
       "      <td>4.195000</td>\n",
       "      <td>98</td>\n",
       "    </tr>\n",
       "    <tr>\n",
       "      <th>99</th>\n",
       "      <td>3.803813</td>\n",
       "      <td>4.171327</td>\n",
       "      <td>99</td>\n",
       "    </tr>\n",
       "  </tbody>\n",
       "</table>\n",
       "</div>"
      ],
      "text/plain": [
       "        loss  val_loss  epoch\n",
       "95  3.810304  4.184365     95\n",
       "96  3.805131  4.181530     96\n",
       "97  3.809725  4.221963     97\n",
       "98  3.802986  4.195000     98\n",
       "99  3.803813  4.171327     99"
      ]
     },
     "execution_count": 22,
     "metadata": {},
     "output_type": "execute_result"
    }
   ],
   "source": [
    "hist = pd.DataFrame(history.history)\n",
    "hist['epoch'] = history.epoch\n",
    "hist.tail()"
   ]
  },
  {
   "cell_type": "code",
   "execution_count": 23,
   "id": "d1766b4c",
   "metadata": {
    "execution": {
     "iopub.execute_input": "2024-10-14T17:09:56.111508Z",
     "iopub.status.busy": "2024-10-14T17:09:56.111092Z",
     "iopub.status.idle": "2024-10-14T17:09:56.117074Z",
     "shell.execute_reply": "2024-10-14T17:09:56.115921Z"
    },
    "papermill": {
     "duration": 0.032006,
     "end_time": "2024-10-14T17:09:56.119199",
     "exception": false,
     "start_time": "2024-10-14T17:09:56.087193",
     "status": "completed"
    },
    "tags": []
   },
   "outputs": [],
   "source": [
    "def plot_loss(history):\n",
    "  plt.plot(history.history['loss'], label='loss')\n",
    "  plt.plot(history.history['val_loss'], label='val_loss')\n",
    "  plt.ylim([0, 10])\n",
    "  plt.xlabel('Epoch')\n",
    "  plt.ylabel('Error [MPG]')\n",
    "  plt.legend()\n",
    "  plt.grid(True)"
   ]
  },
  {
   "cell_type": "code",
   "execution_count": 24,
   "id": "24995f92",
   "metadata": {
    "execution": {
     "iopub.execute_input": "2024-10-14T17:09:56.165343Z",
     "iopub.status.busy": "2024-10-14T17:09:56.164564Z",
     "iopub.status.idle": "2024-10-14T17:09:56.434476Z",
     "shell.execute_reply": "2024-10-14T17:09:56.433387Z"
    },
    "papermill": {
     "duration": 0.29554,
     "end_time": "2024-10-14T17:09:56.436770",
     "exception": false,
     "start_time": "2024-10-14T17:09:56.141230",
     "status": "completed"
    },
    "tags": []
   },
   "outputs": [
    {
     "data": {
      "image/png": "[encoded data removed]",
      "text/plain": [
       "<Figure size 640x480 with 1 Axes>"
      ]
     },
     "metadata": {},
     "output_type": "display_data"
    }
   ],
   "source": [
    "plot_loss(history)"
   ]
  },
  {
   "cell_type": "markdown",
   "id": "c97fc051",
   "metadata": {
    "papermill": {
     "duration": 0.022146,
     "end_time": "2024-10-14T17:09:56.481415",
     "exception": false,
     "start_time": "2024-10-14T17:09:56.459269",
     "status": "completed"
    },
    "tags": []
   },
   "source": [
    "#### Collect the results on the test set for later:"
   ]
  },
  {
   "cell_type": "code",
   "execution_count": 25,
   "id": "70573906",
   "metadata": {
    "execution": {
     "iopub.execute_input": "2024-10-14T17:09:56.527460Z",
     "iopub.status.busy": "2024-10-14T17:09:56.527046Z",
     "iopub.status.idle": "2024-10-14T17:09:56.607318Z",
     "shell.execute_reply": "2024-10-14T17:09:56.606228Z"
    },
    "papermill": {
     "duration": 0.106326,
     "end_time": "2024-10-14T17:09:56.609859",
     "exception": false,
     "start_time": "2024-10-14T17:09:56.503533",
     "status": "completed"
    },
    "tags": []
   },
   "outputs": [],
   "source": [
    "test_results = {}\n",
    "\n",
    "test_results['horsepower_model'] = horsepower_model.evaluate(\n",
    "    test_features['Horsepower'],\n",
    "    test_labels, verbose=0)"
   ]
  },
  {
   "cell_type": "markdown",
   "id": "31baff96",
   "metadata": {
    "papermill": {
     "duration": 0.022171,
     "end_time": "2024-10-14T17:09:56.654773",
     "exception": false,
     "start_time": "2024-10-14T17:09:56.632602",
     "status": "completed"
    },
    "tags": []
   },
   "source": [
    "#### Since this is a single variable regression, it's easy to view the model's predictions as a function of the input:"
   ]
  },
  {
   "cell_type": "code",
   "execution_count": 26,
   "id": "77e493dc",
   "metadata": {
    "execution": {
     "iopub.execute_input": "2024-10-14T17:09:56.700946Z",
     "iopub.status.busy": "2024-10-14T17:09:56.700500Z",
     "iopub.status.idle": "2024-10-14T17:09:56.882459Z",
     "shell.execute_reply": "2024-10-14T17:09:56.881400Z"
    },
    "papermill": {
     "duration": 0.207889,
     "end_time": "2024-10-14T17:09:56.884870",
     "exception": false,
     "start_time": "2024-10-14T17:09:56.676981",
     "status": "completed"
    },
    "tags": []
   },
   "outputs": [
    {
     "name": "stdout",
     "output_type": "stream",
     "text": [
      "\u001b[1m8/8\u001b[0m \u001b[32m━━━━━━━━━━━━━━━━━━━━\u001b[0m\u001b[37m\u001b[0m \u001b[1m0s\u001b[0m 5ms/step \n"
     ]
    }
   ],
   "source": [
    "x = tf.linspace(0.0, 250, 251)\n",
    "y = horsepower_model.predict(x)"
   ]
  },
  {
   "cell_type": "code",
   "execution_count": 27,
   "id": "bab4513c",
   "metadata": {
    "execution": {
     "iopub.execute_input": "2024-10-14T17:09:56.931920Z",
     "iopub.status.busy": "2024-10-14T17:09:56.931493Z",
     "iopub.status.idle": "2024-10-14T17:09:56.937376Z",
     "shell.execute_reply": "2024-10-14T17:09:56.936197Z"
    },
    "papermill": {
     "duration": 0.031884,
     "end_time": "2024-10-14T17:09:56.939587",
     "exception": false,
     "start_time": "2024-10-14T17:09:56.907703",
     "status": "completed"
    },
    "tags": []
   },
   "outputs": [],
   "source": [
    "def plot_horsepower(x, y):\n",
    "  plt.scatter(train_features['Horsepower'], train_labels, label='Data')\n",
    "  plt.plot(x, y, color='k', label='Predictions')\n",
    "  plt.xlabel('Horsepower')\n",
    "  plt.ylabel('MPG')\n",
    "  plt.legend()"
   ]
  },
  {
   "cell_type": "code",
   "execution_count": 28,
   "id": "216bf519",
   "metadata": {
    "execution": {
     "iopub.execute_input": "2024-10-14T17:09:56.987224Z",
     "iopub.status.busy": "2024-10-14T17:09:56.986809Z",
     "iopub.status.idle": "2024-10-14T17:09:57.286622Z",
     "shell.execute_reply": "2024-10-14T17:09:57.285421Z"
    },
    "papermill": {
     "duration": 0.326793,
     "end_time": "2024-10-14T17:09:57.289363",
     "exception": false,
     "start_time": "2024-10-14T17:09:56.962570",
     "status": "completed"
    },
    "tags": []
   },
   "outputs": [
    {
     "data": {
      "image/png": "[encoded data removed]",
      "text/plain": [
       "<Figure size 640x480 with 1 Axes>"
      ]
     },
     "metadata": {},
     "output_type": "display_data"
    }
   ],
   "source": [
    "plot_horsepower(x, y)"
   ]
  },
  {
   "cell_type": "markdown",
   "id": "d90e7e54",
   "metadata": {
    "papermill": {
     "duration": 0.022947,
     "end_time": "2024-10-14T17:09:57.335766",
     "exception": false,
     "start_time": "2024-10-14T17:09:57.312819",
     "status": "completed"
    },
    "tags": []
   },
   "source": [
    "## Linear regression with multiple inputs\n",
    "#### You can use an almost identical setup to make predictions based on multiple inputs. \n",
    "#### Create a two-step Keras Sequential model again with the first layer being normalizer (tf.keras.layers.Normalization(axis=-1)) you defined earlier and adapted to the whole dataset:"
   ]
  },
  {
   "cell_type": "code",
   "execution_count": 29,
   "id": "5b5e673b",
   "metadata": {
    "execution": {
     "iopub.execute_input": "2024-10-14T17:09:57.383804Z",
     "iopub.status.busy": "2024-10-14T17:09:57.383356Z",
     "iopub.status.idle": "2024-10-14T17:09:57.390578Z",
     "shell.execute_reply": "2024-10-14T17:09:57.389543Z"
    },
    "papermill": {
     "duration": 0.034177,
     "end_time": "2024-10-14T17:09:57.392970",
     "exception": false,
     "start_time": "2024-10-14T17:09:57.358793",
     "status": "completed"
    },
    "tags": []
   },
   "outputs": [],
   "source": [
    "linear_model = tf.keras.Sequential([\n",
    "    normalizer,\n",
    "    layers.Dense(units=1)\n",
    "])"
   ]
  },
  {
   "cell_type": "markdown",
   "id": "53acfce6",
   "metadata": {
    "papermill": {
     "duration": 0.023304,
     "end_time": "2024-10-14T17:09:57.439692",
     "exception": false,
     "start_time": "2024-10-14T17:09:57.416388",
     "status": "completed"
    },
    "tags": []
   },
   "source": [
    "#### When you call Model.predict on a batch of inputs, it produces units=1 outputs for each example:"
   ]
  },
  {
   "cell_type": "code",
   "execution_count": 30,
   "id": "9046b41b",
   "metadata": {
    "execution": {
     "iopub.execute_input": "2024-10-14T17:09:57.487823Z",
     "iopub.status.busy": "2024-10-14T17:09:57.487375Z",
     "iopub.status.idle": "2024-10-14T17:09:57.671881Z",
     "shell.execute_reply": "2024-10-14T17:09:57.670700Z"
    },
    "papermill": {
     "duration": 0.211273,
     "end_time": "2024-10-14T17:09:57.674235",
     "exception": false,
     "start_time": "2024-10-14T17:09:57.462962",
     "status": "completed"
    },
    "tags": []
   },
   "outputs": [
    {
     "name": "stdout",
     "output_type": "stream",
     "text": [
      "\u001b[1m1/1\u001b[0m \u001b[32m━━━━━━━━━━━━━━━━━━━━\u001b[0m\u001b[37m\u001b[0m \u001b[1m0s\u001b[0m 124ms/step\n"
     ]
    },
    {
     "data": {
      "text/plain": [
       "array([[ 0.152],\n",
       "       [-0.331],\n",
       "       [ 1.149],\n",
       "       [ 0.341],\n",
       "       [-1.7  ],\n",
       "       [ 0.359],\n",
       "       [-1.765],\n",
       "       [-1.475],\n",
       "       [ 0.392],\n",
       "       [-2.084]], dtype=float32)"
      ]
     },
     "execution_count": 30,
     "metadata": {},
     "output_type": "execute_result"
    }
   ],
   "source": [
    "linear_model.predict(train_features[:10])"
   ]
  },
  {
   "cell_type": "markdown",
   "id": "4508d464",
   "metadata": {
    "papermill": {
     "duration": 0.023891,
     "end_time": "2024-10-14T17:09:57.721631",
     "exception": false,
     "start_time": "2024-10-14T17:09:57.697740",
     "status": "completed"
    },
    "tags": []
   },
   "source": [
    "#### When you call the model, its weight matrices will be built—check that the kernel weights have a shape of (9, 1):"
   ]
  },
  {
   "cell_type": "code",
   "execution_count": 31,
   "id": "628ef2ab",
   "metadata": {
    "execution": {
     "iopub.execute_input": "2024-10-14T17:09:57.770845Z",
     "iopub.status.busy": "2024-10-14T17:09:57.770411Z",
     "iopub.status.idle": "2024-10-14T17:09:57.777904Z",
     "shell.execute_reply": "2024-10-14T17:09:57.776563Z"
    },
    "papermill": {
     "duration": 0.034801,
     "end_time": "2024-10-14T17:09:57.780098",
     "exception": false,
     "start_time": "2024-10-14T17:09:57.745297",
     "status": "completed"
    },
    "tags": []
   },
   "outputs": [
    {
     "data": {
      "text/plain": [
       "<KerasVariable shape=(9, 1), dtype=float32, path=sequential_1/dense_1/kernel>"
      ]
     },
     "execution_count": 31,
     "metadata": {},
     "output_type": "execute_result"
    }
   ],
   "source": [
    "linear_model.layers[1].kernel"
   ]
  },
  {
   "cell_type": "markdown",
   "id": "437b6f46",
   "metadata": {
    "papermill": {
     "duration": 0.023859,
     "end_time": "2024-10-14T17:09:57.829682",
     "exception": false,
     "start_time": "2024-10-14T17:09:57.805823",
     "status": "completed"
    },
    "tags": []
   },
   "source": [
    "#### Configure the model with Keras Model.compile and train with Model.fit for 100 epochs:"
   ]
  },
  {
   "cell_type": "code",
   "execution_count": 32,
   "id": "5293c877",
   "metadata": {
    "execution": {
     "iopub.execute_input": "2024-10-14T17:09:57.879681Z",
     "iopub.status.busy": "2024-10-14T17:09:57.879245Z",
     "iopub.status.idle": "2024-10-14T17:09:57.889200Z",
     "shell.execute_reply": "2024-10-14T17:09:57.888096Z"
    },
    "papermill": {
     "duration": 0.03778,
     "end_time": "2024-10-14T17:09:57.891449",
     "exception": false,
     "start_time": "2024-10-14T17:09:57.853669",
     "status": "completed"
    },
    "tags": []
   },
   "outputs": [],
   "source": [
    "linear_model.compile(\n",
    "    optimizer=tf.keras.optimizers.Adam(learning_rate=0.1),\n",
    "    loss='mean_absolute_error')"
   ]
  },
  {
   "cell_type": "code",
   "execution_count": 33,
   "id": "74fe0526",
   "metadata": {
    "execution": {
     "iopub.execute_input": "2024-10-14T17:09:57.941889Z",
     "iopub.status.busy": "2024-10-14T17:09:57.940549Z",
     "iopub.status.idle": "2024-10-14T17:10:04.266160Z",
     "shell.execute_reply": "2024-10-14T17:10:04.264562Z"
    },
    "papermill": {
     "duration": 6.353349,
     "end_time": "2024-10-14T17:10:04.268786",
     "exception": false,
     "start_time": "2024-10-14T17:09:57.915437",
     "status": "completed"
    },
    "tags": []
   },
   "outputs": [
    {
     "name": "stdout",
     "output_type": "stream",
     "text": [
      "CPU times: user 6.41 s, sys: 402 ms, total: 6.81 s\n",
      "Wall time: 6.32 s\n"
     ]
    }
   ],
   "source": [
    "%%time\n",
    "history = linear_model.fit(\n",
    "    train_features,\n",
    "    train_labels,\n",
    "    epochs=100,\n",
    "    # Suppress logging.\n",
    "    verbose=0,\n",
    "    # Calculate validation results on 20% of the training data.\n",
    "    validation_split = 0.2)"
   ]
  },
  {
   "cell_type": "markdown",
   "id": "9ff288d2",
   "metadata": {
    "papermill": {
     "duration": 0.023584,
     "end_time": "2024-10-14T17:10:04.316320",
     "exception": false,
     "start_time": "2024-10-14T17:10:04.292736",
     "status": "completed"
    },
    "tags": []
   },
   "source": [
    "#### Using all the inputs in this regression model achieves a much lower training and validation error than the horsepower_model, which had one input:"
   ]
  },
  {
   "cell_type": "code",
   "execution_count": 34,
   "id": "491a9da2",
   "metadata": {
    "execution": {
     "iopub.execute_input": "2024-10-14T17:10:04.365771Z",
     "iopub.status.busy": "2024-10-14T17:10:04.365346Z",
     "iopub.status.idle": "2024-10-14T17:10:04.640384Z",
     "shell.execute_reply": "2024-10-14T17:10:04.639212Z"
    },
    "papermill": {
     "duration": 0.302745,
     "end_time": "2024-10-14T17:10:04.642978",
     "exception": false,
     "start_time": "2024-10-14T17:10:04.340233",
     "status": "completed"
    },
    "tags": []
   },
   "outputs": [
    {
     "data": {
      "image/png": "[encoded data removed]",
      "text/plain": [
       "<Figure size 640x480 with 1 Axes>"
      ]
     },
     "metadata": {},
     "output_type": "display_data"
    }
   ],
   "source": [
    "plot_loss(history)"
   ]
  },
  {
   "cell_type": "markdown",
   "id": "62315179",
   "metadata": {
    "papermill": {
     "duration": 0.024083,
     "end_time": "2024-10-14T17:10:04.691372",
     "exception": false,
     "start_time": "2024-10-14T17:10:04.667289",
     "status": "completed"
    },
    "tags": []
   },
   "source": [
    "#### Collect the results on the test set for later:"
   ]
  },
  {
   "cell_type": "code",
   "execution_count": 35,
   "id": "45b87288",
   "metadata": {
    "execution": {
     "iopub.execute_input": "2024-10-14T17:10:04.742362Z",
     "iopub.status.busy": "2024-10-14T17:10:04.741357Z",
     "iopub.status.idle": "2024-10-14T17:10:04.827596Z",
     "shell.execute_reply": "2024-10-14T17:10:04.826594Z"
    },
    "papermill": {
     "duration": 0.114457,
     "end_time": "2024-10-14T17:10:04.830226",
     "exception": false,
     "start_time": "2024-10-14T17:10:04.715769",
     "status": "completed"
    },
    "tags": []
   },
   "outputs": [],
   "source": [
    "test_results['linear_model'] = linear_model.evaluate(\n",
    "    test_features, test_labels, verbose=0)"
   ]
  },
  {
   "cell_type": "markdown",
   "id": "480b13df",
   "metadata": {
    "papermill": {
     "duration": 0.024038,
     "end_time": "2024-10-14T17:10:04.878735",
     "exception": false,
     "start_time": "2024-10-14T17:10:04.854697",
     "status": "completed"
    },
    "tags": []
   },
   "source": [
    "# Regression with a deep neural network (DNN)"
   ]
  },
  {
   "cell_type": "markdown",
   "id": "20607721",
   "metadata": {
    "papermill": {
     "duration": 0.024182,
     "end_time": "2024-10-14T17:10:04.927144",
     "exception": false,
     "start_time": "2024-10-14T17:10:04.902962",
     "status": "completed"
    },
    "tags": []
   },
   "source": [
    "#### In the previous section, you implemented two linear models for single and multiple inputs.\n",
    "\n",
    "#### Here, you will implement single-input and multiple-input DNN models.\n",
    "\n",
    "#### The code is basically the same except the model is expanded to include some \"hidden\" non-linear layers. The name \"hidden\" here just means not directly connected to the inputs or outputs.\n",
    "\n",
    "#### These models will contain a few more layers than the linear model:\n",
    "\n",
    "* The normalization layer, as before (with horsepower_normalizer for a single-input model and normalizer for a multiple-input model).\n",
    "* Two hidden, non-linear, Dense layers with the ReLU (relu) activation function nonlinearity.\n",
    "* A linear Dense single-output layer.\n",
    "\n",
    "#### Both models will use the same training procedure, so the compile method is included in the build_and_compile_model function below."
   ]
  },
  {
   "cell_type": "code",
   "execution_count": 36,
   "id": "485d5120",
   "metadata": {
    "execution": {
     "iopub.execute_input": "2024-10-14T17:10:04.977852Z",
     "iopub.status.busy": "2024-10-14T17:10:04.976865Z",
     "iopub.status.idle": "2024-10-14T17:10:04.983179Z",
     "shell.execute_reply": "2024-10-14T17:10:04.982137Z"
    },
    "papermill": {
     "duration": 0.033784,
     "end_time": "2024-10-14T17:10:04.985263",
     "exception": false,
     "start_time": "2024-10-14T17:10:04.951479",
     "status": "completed"
    },
    "tags": []
   },
   "outputs": [],
   "source": [
    "def build_and_compile_model(norm):\n",
    "  model = keras.Sequential([\n",
    "      norm,\n",
    "      layers.Dense(64, activation='relu'),\n",
    "      layers.Dense(64, activation='relu'),\n",
    "      layers.Dense(1)\n",
    "  ])\n",
    "\n",
    "  model.compile(loss='mean_absolute_error',\n",
    "                optimizer=tf.keras.optimizers.Adam(0.001))\n",
    "  return model"
   ]
  },
  {
   "cell_type": "markdown",
   "id": "c0d642aa",
   "metadata": {
    "papermill": {
     "duration": 0.024011,
     "end_time": "2024-10-14T17:10:05.034099",
     "exception": false,
     "start_time": "2024-10-14T17:10:05.010088",
     "status": "completed"
    },
    "tags": []
   },
   "source": [
    "## Regression using a DNN and a single input\n",
    "#### Create a DNN model with only 'Horsepower' as input and horsepower_normalizer (defined earlier) as the normalization layer:"
   ]
  },
  {
   "cell_type": "code",
   "execution_count": 37,
   "id": "c0f00bfd",
   "metadata": {
    "execution": {
     "iopub.execute_input": "2024-10-14T17:10:05.085556Z",
     "iopub.status.busy": "2024-10-14T17:10:05.084542Z",
     "iopub.status.idle": "2024-10-14T17:10:05.123060Z",
     "shell.execute_reply": "2024-10-14T17:10:05.122003Z"
    },
    "papermill": {
     "duration": 0.067025,
     "end_time": "2024-10-14T17:10:05.125620",
     "exception": false,
     "start_time": "2024-10-14T17:10:05.058595",
     "status": "completed"
    },
    "tags": []
   },
   "outputs": [],
   "source": [
    "dnn_horsepower_model = build_and_compile_model(horsepower_normalizer)"
   ]
  },
  {
   "cell_type": "markdown",
   "id": "1b18ed48",
   "metadata": {
    "papermill": {
     "duration": 0.023811,
     "end_time": "2024-10-14T17:10:05.174069",
     "exception": false,
     "start_time": "2024-10-14T17:10:05.150258",
     "status": "completed"
    },
    "tags": []
   },
   "source": [
    "#### This model has quite a few more trainable parameters than the linear models:"
   ]
  },
  {
   "cell_type": "code",
   "execution_count": 38,
   "id": "cd07f6c9",
   "metadata": {
    "execution": {
     "iopub.execute_input": "2024-10-14T17:10:05.224451Z",
     "iopub.status.busy": "2024-10-14T17:10:05.224045Z",
     "iopub.status.idle": "2024-10-14T17:10:05.246272Z",
     "shell.execute_reply": "2024-10-14T17:10:05.245130Z"
    },
    "papermill": {
     "duration": 0.050327,
     "end_time": "2024-10-14T17:10:05.248737",
     "exception": false,
     "start_time": "2024-10-14T17:10:05.198410",
     "status": "completed"
    },
    "tags": []
   },
   "outputs": [
    {
     "data": {
      "text/html": [
       "<pre style=\"white-space:pre;overflow-x:auto;line-height:normal;font-family:Menlo,'DejaVu Sans Mono',consolas,'Courier New',monospace\"><span style=\"font-weight: bold\">Model: \"sequential_2\"</span>\n",
       "</pre>\n"
      ],
      "text/plain": [
       "\u001b[1mModel: \"sequential_2\"\u001b[0m\n"
      ]
     },
     "metadata": {},
     "output_type": "display_data"
    },
    {
     "data": {
      "text/html": [
       "<pre style=\"white-space:pre;overflow-x:auto;line-height:normal;font-family:Menlo,'DejaVu Sans Mono',consolas,'Courier New',monospace\">┏━━━━━━━━━━━━━━━━━━━━━━━━━━━━━━━━━┳━━━━━━━━━━━━━━━━━━━━━━━━┳━━━━━━━━━━━━━━━┓\n",
       "┃<span style=\"font-weight: bold\"> Layer (type)                    </span>┃<span style=\"font-weight: bold\"> Output Shape           </span>┃<span style=\"font-weight: bold\">       Param # </span>┃\n",
       "┡━━━━━━━━━━━━━━━━━━━━━━━━━━━━━━━━━╇━━━━━━━━━━━━━━━━━━━━━━━━╇━━━━━━━━━━━━━━━┩\n",
       "│ normalization_1 (<span style=\"color: #0087ff; text-decoration-color: #0087ff\">Normalization</span>) │ (<span style=\"color: #00d7ff; text-decoration-color: #00d7ff\">None</span>, <span style=\"color: #00af00; text-decoration-color: #00af00\">1</span>)              │             <span style=\"color: #00af00; text-decoration-color: #00af00\">3</span> │\n",
       "├─────────────────────────────────┼────────────────────────┼───────────────┤\n",
       "│ dense_2 (<span style=\"color: #0087ff; text-decoration-color: #0087ff\">Dense</span>)                 │ (<span style=\"color: #00d7ff; text-decoration-color: #00d7ff\">None</span>, <span style=\"color: #00af00; text-decoration-color: #00af00\">64</span>)             │           <span style=\"color: #00af00; text-decoration-color: #00af00\">128</span> │\n",
       "├─────────────────────────────────┼────────────────────────┼───────────────┤\n",
       "│ dense_3 (<span style=\"color: #0087ff; text-decoration-color: #0087ff\">Dense</span>)                 │ (<span style=\"color: #00d7ff; text-decoration-color: #00d7ff\">None</span>, <span style=\"color: #00af00; text-decoration-color: #00af00\">64</span>)             │         <span style=\"color: #00af00; text-decoration-color: #00af00\">4,160</span> │\n",
       "├─────────────────────────────────┼────────────────────────┼───────────────┤\n",
       "│ dense_4 (<span style=\"color: #0087ff; text-decoration-color: #0087ff\">Dense</span>)                 │ (<span style=\"color: #00d7ff; text-decoration-color: #00d7ff\">None</span>, <span style=\"color: #00af00; text-decoration-color: #00af00\">1</span>)              │            <span style=\"color: #00af00; text-decoration-color: #00af00\">65</span> │\n",
       "└─────────────────────────────────┴────────────────────────┴───────────────┘\n",
       "</pre>\n"
      ],
      "text/plain": [
       "┏━━━━━━━━━━━━━━━━━━━━━━━━━━━━━━━━━┳━━━━━━━━━━━━━━━━━━━━━━━━┳━━━━━━━━━━━━━━━┓\n",
       "┃\u001b[1m \u001b[0m\u001b[1mLayer (type)                   \u001b[0m\u001b[1m \u001b[0m┃\u001b[1m \u001b[0m\u001b[1mOutput Shape          \u001b[0m\u001b[1m \u001b[0m┃\u001b[1m \u001b[0m\u001b[1m      Param #\u001b[0m\u001b[1m \u001b[0m┃\n",
       "┡━━━━━━━━━━━━━━━━━━━━━━━━━━━━━━━━━╇━━━━━━━━━━━━━━━━━━━━━━━━╇━━━━━━━━━━━━━━━┩\n",
       "│ normalization_1 (\u001b[38;5;33mNormalization\u001b[0m) │ (\u001b[38;5;45mNone\u001b[0m, \u001b[38;5;34m1\u001b[0m)              │             \u001b[38;5;34m3\u001b[0m │\n",
       "├─────────────────────────────────┼────────────────────────┼───────────────┤\n",
       "│ dense_2 (\u001b[38;5;33mDense\u001b[0m)                 │ (\u001b[38;5;45mNone\u001b[0m, \u001b[38;5;34m64\u001b[0m)             │           \u001b[38;5;34m128\u001b[0m │\n",
       "├─────────────────────────────────┼────────────────────────┼───────────────┤\n",
       "│ dense_3 (\u001b[38;5;33mDense\u001b[0m)                 │ (\u001b[38;5;45mNone\u001b[0m, \u001b[38;5;34m64\u001b[0m)             │         \u001b[38;5;34m4,160\u001b[0m │\n",
       "├─────────────────────────────────┼────────────────────────┼───────────────┤\n",
       "│ dense_4 (\u001b[38;5;33mDense\u001b[0m)                 │ (\u001b[38;5;45mNone\u001b[0m, \u001b[38;5;34m1\u001b[0m)              │            \u001b[38;5;34m65\u001b[0m │\n",
       "└─────────────────────────────────┴────────────────────────┴───────────────┘\n"
      ]
     },
     "metadata": {},
     "output_type": "display_data"
    },
    {
     "data": {
      "text/html": [
       "<pre style=\"white-space:pre;overflow-x:auto;line-height:normal;font-family:Menlo,'DejaVu Sans Mono',consolas,'Courier New',monospace\"><span style=\"font-weight: bold\"> Total params: </span><span style=\"color: #00af00; text-decoration-color: #00af00\">4,356</span> (17.02 KB)\n",
       "</pre>\n"
      ],
      "text/plain": [
       "\u001b[1m Total params: \u001b[0m\u001b[38;5;34m4,356\u001b[0m (17.02 KB)\n"
      ]
     },
     "metadata": {},
     "output_type": "display_data"
    },
    {
     "data": {
      "text/html": [
       "<pre style=\"white-space:pre;overflow-x:auto;line-height:normal;font-family:Menlo,'DejaVu Sans Mono',consolas,'Courier New',monospace\"><span style=\"font-weight: bold\"> Trainable params: </span><span style=\"color: #00af00; text-decoration-color: #00af00\">4,353</span> (17.00 KB)\n",
       "</pre>\n"
      ],
      "text/plain": [
       "\u001b[1m Trainable params: \u001b[0m\u001b[38;5;34m4,353\u001b[0m (17.00 KB)\n"
      ]
     },
     "metadata": {},
     "output_type": "display_data"
    },
    {
     "data": {
      "text/html": [
       "<pre style=\"white-space:pre;overflow-x:auto;line-height:normal;font-family:Menlo,'DejaVu Sans Mono',consolas,'Courier New',monospace\"><span style=\"font-weight: bold\"> Non-trainable params: </span><span style=\"color: #00af00; text-decoration-color: #00af00\">3</span> (16.00 B)\n",
       "</pre>\n"
      ],
      "text/plain": [
       "\u001b[1m Non-trainable params: \u001b[0m\u001b[38;5;34m3\u001b[0m (16.00 B)\n"
      ]
     },
     "metadata": {},
     "output_type": "display_data"
    }
   ],
   "source": [
    "dnn_horsepower_model.summary()"
   ]
  },
  {
   "cell_type": "markdown",
   "id": "9403cd77",
   "metadata": {
    "papermill": {
     "duration": 0.024902,
     "end_time": "2024-10-14T17:10:05.299227",
     "exception": false,
     "start_time": "2024-10-14T17:10:05.274325",
     "status": "completed"
    },
    "tags": []
   },
   "source": [
    "#### Train the model with Keras Model.fit:"
   ]
  },
  {
   "cell_type": "code",
   "execution_count": 39,
   "id": "8490d74f",
   "metadata": {
    "execution": {
     "iopub.execute_input": "2024-10-14T17:10:05.351432Z",
     "iopub.status.busy": "2024-10-14T17:10:05.350963Z",
     "iopub.status.idle": "2024-10-14T17:10:12.477545Z",
     "shell.execute_reply": "2024-10-14T17:10:12.476468Z"
    },
    "papermill": {
     "duration": 7.15558,
     "end_time": "2024-10-14T17:10:12.479934",
     "exception": false,
     "start_time": "2024-10-14T17:10:05.324354",
     "status": "completed"
    },
    "tags": []
   },
   "outputs": [
    {
     "name": "stdout",
     "output_type": "stream",
     "text": [
      "CPU times: user 7.29 s, sys: 379 ms, total: 7.67 s\n",
      "Wall time: 7.12 s\n"
     ]
    }
   ],
   "source": [
    "%%time\n",
    "history = dnn_horsepower_model.fit(\n",
    "    train_features['Horsepower'],\n",
    "    train_labels,\n",
    "    validation_split=0.2,\n",
    "    verbose=0, epochs=100)"
   ]
  },
  {
   "cell_type": "markdown",
   "id": "c944a12b",
   "metadata": {
    "papermill": {
     "duration": 0.024415,
     "end_time": "2024-10-14T17:10:12.529770",
     "exception": false,
     "start_time": "2024-10-14T17:10:12.505355",
     "status": "completed"
    },
    "tags": []
   },
   "source": [
    "#### This model does slightly better than the linear single-input horsepower_model:"
   ]
  },
  {
   "cell_type": "code",
   "execution_count": 40,
   "id": "8b0551a4",
   "metadata": {
    "execution": {
     "iopub.execute_input": "2024-10-14T17:10:12.582039Z",
     "iopub.status.busy": "2024-10-14T17:10:12.581050Z",
     "iopub.status.idle": "2024-10-14T17:10:12.850718Z",
     "shell.execute_reply": "2024-10-14T17:10:12.849630Z"
    },
    "papermill": {
     "duration": 0.298344,
     "end_time": "2024-10-14T17:10:12.853106",
     "exception": false,
     "start_time": "2024-10-14T17:10:12.554762",
     "status": "completed"
    },
    "tags": []
   },
   "outputs": [
    {
     "data": {
      "image/png": "[encoded data removed]",
      "text/plain": [
       "<Figure size 640x480 with 1 Axes>"
      ]
     },
     "metadata": {},
     "output_type": "display_data"
    }
   ],
   "source": [
    "plot_loss(history)"
   ]
  },
  {
   "cell_type": "markdown",
   "id": "e538e188",
   "metadata": {
    "papermill": {
     "duration": 0.025055,
     "end_time": "2024-10-14T17:10:12.903821",
     "exception": false,
     "start_time": "2024-10-14T17:10:12.878766",
     "status": "completed"
    },
    "tags": []
   },
   "source": [
    "#### If you plot the predictions as a function of 'Horsepower', you should notice how this model takes advantage of the nonlinearity provided by the hidden layers:"
   ]
  },
  {
   "cell_type": "code",
   "execution_count": 41,
   "id": "7cef93e8",
   "metadata": {
    "execution": {
     "iopub.execute_input": "2024-10-14T17:10:12.956196Z",
     "iopub.status.busy": "2024-10-14T17:10:12.955773Z",
     "iopub.status.idle": "2024-10-14T17:10:13.127802Z",
     "shell.execute_reply": "2024-10-14T17:10:13.126862Z"
    },
    "papermill": {
     "duration": 0.201084,
     "end_time": "2024-10-14T17:10:13.130179",
     "exception": false,
     "start_time": "2024-10-14T17:10:12.929095",
     "status": "completed"
    },
    "tags": []
   },
   "outputs": [
    {
     "name": "stdout",
     "output_type": "stream",
     "text": [
      "\u001b[1m8/8\u001b[0m \u001b[32m━━━━━━━━━━━━━━━━━━━━\u001b[0m\u001b[37m\u001b[0m \u001b[1m0s\u001b[0m 7ms/step \n"
     ]
    }
   ],
   "source": [
    "x = tf.linspace(0.0, 250, 251)\n",
    "y = dnn_horsepower_model.predict(x)"
   ]
  },
  {
   "cell_type": "code",
   "execution_count": 42,
   "id": "5dc5c908",
   "metadata": {
    "execution": {
     "iopub.execute_input": "2024-10-14T17:10:13.183827Z",
     "iopub.status.busy": "2024-10-14T17:10:13.183402Z",
     "iopub.status.idle": "2024-10-14T17:10:13.480000Z",
     "shell.execute_reply": "2024-10-14T17:10:13.478951Z"
    },
    "papermill": {
     "duration": 0.326314,
     "end_time": "2024-10-14T17:10:13.482572",
     "exception": false,
     "start_time": "2024-10-14T17:10:13.156258",
     "status": "completed"
    },
    "tags": []
   },
   "outputs": [
    {
     "data": {
      "image/png": "[encoded data removed]",
      "text/plain": [
       "<Figure size 640x480 with 1 Axes>"
      ]
     },
     "metadata": {},
     "output_type": "display_data"
    }
   ],
   "source": [
    "plot_horsepower(x, y)"
   ]
  },
  {
   "cell_type": "markdown",
   "id": "6677d488",
   "metadata": {
    "papermill": {
     "duration": 0.026037,
     "end_time": "2024-10-14T17:10:13.535420",
     "exception": false,
     "start_time": "2024-10-14T17:10:13.509383",
     "status": "completed"
    },
    "tags": []
   },
   "source": [
    "#### Collect the results on the test set for later:"
   ]
  },
  {
   "cell_type": "code",
   "execution_count": 43,
   "id": "585c01eb",
   "metadata": {
    "execution": {
     "iopub.execute_input": "2024-10-14T17:10:13.591640Z",
     "iopub.status.busy": "2024-10-14T17:10:13.590586Z",
     "iopub.status.idle": "2024-10-14T17:10:13.672013Z",
     "shell.execute_reply": "2024-10-14T17:10:13.670945Z"
    },
    "papermill": {
     "duration": 0.112065,
     "end_time": "2024-10-14T17:10:13.674534",
     "exception": false,
     "start_time": "2024-10-14T17:10:13.562469",
     "status": "completed"
    },
    "tags": []
   },
   "outputs": [],
   "source": [
    "test_results['dnn_horsepower_model'] = dnn_horsepower_model.evaluate(\n",
    "    test_features['Horsepower'], test_labels,\n",
    "    verbose=0)"
   ]
  },
  {
   "cell_type": "markdown",
   "id": "ec71581e",
   "metadata": {
    "papermill": {
     "duration": 0.026195,
     "end_time": "2024-10-14T17:10:13.727267",
     "exception": false,
     "start_time": "2024-10-14T17:10:13.701072",
     "status": "completed"
    },
    "tags": []
   },
   "source": [
    "## Regression using a DNN and multiple inputs\n",
    "#### Repeat the previous process using all the inputs. The model's performance slightly improves on the validation dataset."
   ]
  },
  {
   "cell_type": "code",
   "execution_count": 44,
   "id": "e9c0ef1e",
   "metadata": {
    "execution": {
     "iopub.execute_input": "2024-10-14T17:10:13.782071Z",
     "iopub.status.busy": "2024-10-14T17:10:13.781038Z",
     "iopub.status.idle": "2024-10-14T17:10:13.810381Z",
     "shell.execute_reply": "2024-10-14T17:10:13.809348Z"
    },
    "papermill": {
     "duration": 0.059045,
     "end_time": "2024-10-14T17:10:13.812521",
     "exception": false,
     "start_time": "2024-10-14T17:10:13.753476",
     "status": "completed"
    },
    "tags": []
   },
   "outputs": [
    {
     "data": {
      "text/html": [
       "<pre style=\"white-space:pre;overflow-x:auto;line-height:normal;font-family:Menlo,'DejaVu Sans Mono',consolas,'Courier New',monospace\"><span style=\"font-weight: bold\">Model: \"sequential_3\"</span>\n",
       "</pre>\n"
      ],
      "text/plain": [
       "\u001b[1mModel: \"sequential_3\"\u001b[0m\n"
      ]
     },
     "metadata": {},
     "output_type": "display_data"
    },
    {
     "data": {
      "text/html": [
       "<pre style=\"white-space:pre;overflow-x:auto;line-height:normal;font-family:Menlo,'DejaVu Sans Mono',consolas,'Courier New',monospace\">┏━━━━━━━━━━━━━━━━━━━━━━━━━━━━━━━━━┳━━━━━━━━━━━━━━━━━━━━━━━━┳━━━━━━━━━━━━━━━┓\n",
       "┃<span style=\"font-weight: bold\"> Layer (type)                    </span>┃<span style=\"font-weight: bold\"> Output Shape           </span>┃<span style=\"font-weight: bold\">       Param # </span>┃\n",
       "┡━━━━━━━━━━━━━━━━━━━━━━━━━━━━━━━━━╇━━━━━━━━━━━━━━━━━━━━━━━━╇━━━━━━━━━━━━━━━┩\n",
       "│ normalization (<span style=\"color: #0087ff; text-decoration-color: #0087ff\">Normalization</span>)   │ (<span style=\"color: #00af00; text-decoration-color: #00af00\">10</span>, <span style=\"color: #00af00; text-decoration-color: #00af00\">9</span>)                │            <span style=\"color: #00af00; text-decoration-color: #00af00\">19</span> │\n",
       "├─────────────────────────────────┼────────────────────────┼───────────────┤\n",
       "│ dense_5 (<span style=\"color: #0087ff; text-decoration-color: #0087ff\">Dense</span>)                 │ ?                      │   <span style=\"color: #00af00; text-decoration-color: #00af00\">0</span> (unbuilt) │\n",
       "├─────────────────────────────────┼────────────────────────┼───────────────┤\n",
       "│ dense_6 (<span style=\"color: #0087ff; text-decoration-color: #0087ff\">Dense</span>)                 │ ?                      │   <span style=\"color: #00af00; text-decoration-color: #00af00\">0</span> (unbuilt) │\n",
       "├─────────────────────────────────┼────────────────────────┼───────────────┤\n",
       "│ dense_7 (<span style=\"color: #0087ff; text-decoration-color: #0087ff\">Dense</span>)                 │ ?                      │   <span style=\"color: #00af00; text-decoration-color: #00af00\">0</span> (unbuilt) │\n",
       "└─────────────────────────────────┴────────────────────────┴───────────────┘\n",
       "</pre>\n"
      ],
      "text/plain": [
       "┏━━━━━━━━━━━━━━━━━━━━━━━━━━━━━━━━━┳━━━━━━━━━━━━━━━━━━━━━━━━┳━━━━━━━━━━━━━━━┓\n",
       "┃\u001b[1m \u001b[0m\u001b[1mLayer (type)                   \u001b[0m\u001b[1m \u001b[0m┃\u001b[1m \u001b[0m\u001b[1mOutput Shape          \u001b[0m\u001b[1m \u001b[0m┃\u001b[1m \u001b[0m\u001b[1m      Param #\u001b[0m\u001b[1m \u001b[0m┃\n",
       "┡━━━━━━━━━━━━━━━━━━━━━━━━━━━━━━━━━╇━━━━━━━━━━━━━━━━━━━━━━━━╇━━━━━━━━━━━━━━━┩\n",
       "│ normalization (\u001b[38;5;33mNormalization\u001b[0m)   │ (\u001b[38;5;34m10\u001b[0m, \u001b[38;5;34m9\u001b[0m)                │            \u001b[38;5;34m19\u001b[0m │\n",
       "├─────────────────────────────────┼────────────────────────┼───────────────┤\n",
       "│ dense_5 (\u001b[38;5;33mDense\u001b[0m)                 │ ?                      │   \u001b[38;5;34m0\u001b[0m (unbuilt) │\n",
       "├─────────────────────────────────┼────────────────────────┼───────────────┤\n",
       "│ dense_6 (\u001b[38;5;33mDense\u001b[0m)                 │ ?                      │   \u001b[38;5;34m0\u001b[0m (unbuilt) │\n",
       "├─────────────────────────────────┼────────────────────────┼───────────────┤\n",
       "│ dense_7 (\u001b[38;5;33mDense\u001b[0m)                 │ ?                      │   \u001b[38;5;34m0\u001b[0m (unbuilt) │\n",
       "└─────────────────────────────────┴────────────────────────┴───────────────┘\n"
      ]
     },
     "metadata": {},
     "output_type": "display_data"
    },
    {
     "data": {
      "text/html": [
       "<pre style=\"white-space:pre;overflow-x:auto;line-height:normal;font-family:Menlo,'DejaVu Sans Mono',consolas,'Courier New',monospace\"><span style=\"font-weight: bold\"> Total params: </span><span style=\"color: #00af00; text-decoration-color: #00af00\">19</span> (80.00 B)\n",
       "</pre>\n"
      ],
      "text/plain": [
       "\u001b[1m Total params: \u001b[0m\u001b[38;5;34m19\u001b[0m (80.00 B)\n"
      ]
     },
     "metadata": {},
     "output_type": "display_data"
    },
    {
     "data": {
      "text/html": [
       "<pre style=\"white-space:pre;overflow-x:auto;line-height:normal;font-family:Menlo,'DejaVu Sans Mono',consolas,'Courier New',monospace\"><span style=\"font-weight: bold\"> Trainable params: </span><span style=\"color: #00af00; text-decoration-color: #00af00\">0</span> (0.00 B)\n",
       "</pre>\n"
      ],
      "text/plain": [
       "\u001b[1m Trainable params: \u001b[0m\u001b[38;5;34m0\u001b[0m (0.00 B)\n"
      ]
     },
     "metadata": {},
     "output_type": "display_data"
    },
    {
     "data": {
      "text/html": [
       "<pre style=\"white-space:pre;overflow-x:auto;line-height:normal;font-family:Menlo,'DejaVu Sans Mono',consolas,'Courier New',monospace\"><span style=\"font-weight: bold\"> Non-trainable params: </span><span style=\"color: #00af00; text-decoration-color: #00af00\">19</span> (80.00 B)\n",
       "</pre>\n"
      ],
      "text/plain": [
       "\u001b[1m Non-trainable params: \u001b[0m\u001b[38;5;34m19\u001b[0m (80.00 B)\n"
      ]
     },
     "metadata": {},
     "output_type": "display_data"
    }
   ],
   "source": [
    "dnn_model = build_and_compile_model(normalizer)\n",
    "dnn_model.summary()"
   ]
  },
  {
   "cell_type": "code",
   "execution_count": 45,
   "id": "1acb003c",
   "metadata": {
    "execution": {
     "iopub.execute_input": "2024-10-14T17:10:13.869474Z",
     "iopub.status.busy": "2024-10-14T17:10:13.869061Z",
     "iopub.status.idle": "2024-10-14T17:10:20.783451Z",
     "shell.execute_reply": "2024-10-14T17:10:20.782410Z"
    },
    "papermill": {
     "duration": 6.946169,
     "end_time": "2024-10-14T17:10:20.785750",
     "exception": false,
     "start_time": "2024-10-14T17:10:13.839581",
     "status": "completed"
    },
    "tags": []
   },
   "outputs": [
    {
     "name": "stdout",
     "output_type": "stream",
     "text": [
      "CPU times: user 7.27 s, sys: 421 ms, total: 7.69 s\n",
      "Wall time: 6.91 s\n"
     ]
    }
   ],
   "source": [
    "%%time\n",
    "history = dnn_model.fit(\n",
    "    train_features,\n",
    "    train_labels,\n",
    "    validation_split=0.2,\n",
    "    verbose=0, epochs=100)"
   ]
  },
  {
   "cell_type": "code",
   "execution_count": 46,
   "id": "20687c36",
   "metadata": {
    "execution": {
     "iopub.execute_input": "2024-10-14T17:10:20.842487Z",
     "iopub.status.busy": "2024-10-14T17:10:20.841432Z",
     "iopub.status.idle": "2024-10-14T17:10:21.074874Z",
     "shell.execute_reply": "2024-10-14T17:10:21.073811Z"
    },
    "papermill": {
     "duration": 0.264482,
     "end_time": "2024-10-14T17:10:21.077356",
     "exception": false,
     "start_time": "2024-10-14T17:10:20.812874",
     "status": "completed"
    },
    "tags": []
   },
   "outputs": [
    {
     "data": {
      "image/png": "[encoded data removed]",
      "text/plain": [
       "<Figure size 640x480 with 1 Axes>"
      ]
     },
     "metadata": {},
     "output_type": "display_data"
    }
   ],
   "source": [
    "plot_loss(history)"
   ]
  },
  {
   "cell_type": "code",
   "execution_count": 47,
   "id": "f538195c",
   "metadata": {
    "execution": {
     "iopub.execute_input": "2024-10-14T17:10:21.134509Z",
     "iopub.status.busy": "2024-10-14T17:10:21.134082Z",
     "iopub.status.idle": "2024-10-14T17:10:21.216391Z",
     "shell.execute_reply": "2024-10-14T17:10:21.215456Z"
    },
    "papermill": {
     "duration": 0.113804,
     "end_time": "2024-10-14T17:10:21.218824",
     "exception": false,
     "start_time": "2024-10-14T17:10:21.105020",
     "status": "completed"
    },
    "tags": []
   },
   "outputs": [],
   "source": [
    "test_results['dnn_model'] = dnn_model.evaluate(test_features, test_labels, verbose=0)"
   ]
  },
  {
   "cell_type": "markdown",
   "id": "7db2fdbe",
   "metadata": {
    "papermill": {
     "duration": 0.027202,
     "end_time": "2024-10-14T17:10:21.273982",
     "exception": false,
     "start_time": "2024-10-14T17:10:21.246780",
     "status": "completed"
    },
    "tags": []
   },
   "source": [
    "# Performance\n",
    "#### Since all models have been trained, you can review their test set performance:"
   ]
  },
  {
   "cell_type": "code",
   "execution_count": 48,
   "id": "15268775",
   "metadata": {
    "execution": {
     "iopub.execute_input": "2024-10-14T17:10:21.331452Z",
     "iopub.status.busy": "2024-10-14T17:10:21.331062Z",
     "iopub.status.idle": "2024-10-14T17:10:21.341752Z",
     "shell.execute_reply": "2024-10-14T17:10:21.340684Z"
    },
    "papermill": {
     "duration": 0.04134,
     "end_time": "2024-10-14T17:10:21.343855",
     "exception": false,
     "start_time": "2024-10-14T17:10:21.302515",
     "status": "completed"
    },
    "tags": []
   },
   "outputs": [
    {
     "data": {
      "text/html": [
       "<div>\n",
       "<style scoped>\n",
       "    .dataframe tbody tr th:only-of-type {\n",
       "        vertical-align: middle;\n",
       "    }\n",
       "\n",
       "    .dataframe tbody tr th {\n",
       "        vertical-align: top;\n",
       "    }\n",
       "\n",
       "    .dataframe thead th {\n",
       "        text-align: right;\n",
       "    }\n",
       "</style>\n",
       "<table border=\"1\" class=\"dataframe\">\n",
       "  <thead>\n",
       "    <tr style=\"text-align: right;\">\n",
       "      <th></th>\n",
       "      <th>Mean absolute error [MPG]</th>\n",
       "    </tr>\n",
       "  </thead>\n",
       "  <tbody>\n",
       "    <tr>\n",
       "      <th>horsepower_model</th>\n",
       "      <td>3.647094</td>\n",
       "    </tr>\n",
       "    <tr>\n",
       "      <th>linear_model</th>\n",
       "      <td>2.524420</td>\n",
       "    </tr>\n",
       "    <tr>\n",
       "      <th>dnn_horsepower_model</th>\n",
       "      <td>2.903947</td>\n",
       "    </tr>\n",
       "    <tr>\n",
       "      <th>dnn_model</th>\n",
       "      <td>1.708701</td>\n",
       "    </tr>\n",
       "  </tbody>\n",
       "</table>\n",
       "</div>"
      ],
      "text/plain": [
       "                      Mean absolute error [MPG]\n",
       "horsepower_model                       3.647094\n",
       "linear_model                           2.524420\n",
       "dnn_horsepower_model                   2.903947\n",
       "dnn_model                              1.708701"
      ]
     },
     "execution_count": 48,
     "metadata": {},
     "output_type": "execute_result"
    }
   ],
   "source": [
    "pd.DataFrame(test_results, index=['Mean absolute error [MPG]']).T"
   ]
  },
  {
   "cell_type": "markdown",
   "id": "f41b162e",
   "metadata": {
    "papermill": {
     "duration": 0.02702,
     "end_time": "2024-10-14T17:10:21.398452",
     "exception": false,
     "start_time": "2024-10-14T17:10:21.371432",
     "status": "completed"
    },
    "tags": []
   },
   "source": [
    "#### These results match the validation error observed during training.\n",
    "\n",
    "## Make predictions\n",
    "#### You can now make predictions with the dnn_model on the test set using Keras Model.predict and review the loss:"
   ]
  },
  {
   "cell_type": "code",
   "execution_count": 49,
   "id": "7292ca36",
   "metadata": {
    "execution": {
     "iopub.execute_input": "2024-10-14T17:10:21.455520Z",
     "iopub.status.busy": "2024-10-14T17:10:21.454499Z",
     "iopub.status.idle": "2024-10-14T17:10:21.855569Z",
     "shell.execute_reply": "2024-10-14T17:10:21.854545Z"
    },
    "papermill": {
     "duration": 0.432379,
     "end_time": "2024-10-14T17:10:21.858338",
     "exception": false,
     "start_time": "2024-10-14T17:10:21.425959",
     "status": "completed"
    },
    "tags": []
   },
   "outputs": [
    {
     "name": "stdout",
     "output_type": "stream",
     "text": [
      "\u001b[1m3/3\u001b[0m \u001b[32m━━━━━━━━━━━━━━━━━━━━\u001b[0m\u001b[37m\u001b[0m \u001b[1m0s\u001b[0m 21ms/step\n"
     ]
    },
    {
     "data": {
      "image/png": "[encoded data removed]",
      "text/plain": [
       "<Figure size 640x480 with 1 Axes>"
      ]
     },
     "metadata": {},
     "output_type": "display_data"
    }
   ],
   "source": [
    "test_predictions = dnn_model.predict(test_features).flatten()\n",
    "\n",
    "a = plt.axes(aspect='equal')\n",
    "plt.scatter(test_labels, test_predictions)\n",
    "plt.xlabel('True Values [MPG]')\n",
    "plt.ylabel('Predictions [MPG]')\n",
    "lims = [0, 50]\n",
    "plt.xlim(lims)\n",
    "plt.ylim(lims)\n",
    "_ = plt.plot(lims, lims)"
   ]
  },
  {
   "cell_type": "markdown",
   "id": "68955dfe",
   "metadata": {
    "papermill": {
     "duration": 0.028412,
     "end_time": "2024-10-14T17:10:21.923074",
     "exception": false,
     "start_time": "2024-10-14T17:10:21.894662",
     "status": "completed"
    },
    "tags": []
   },
   "source": [
    "#### It appears that the model predicts reasonably well.\n",
    "\n",
    "#### Now, check the error distribution:"
   ]
  },
  {
   "cell_type": "code",
   "execution_count": 50,
   "id": "4dc0a282",
   "metadata": {
    "execution": {
     "iopub.execute_input": "2024-10-14T17:10:21.982150Z",
     "iopub.status.busy": "2024-10-14T17:10:21.981691Z",
     "iopub.status.idle": "2024-10-14T17:10:22.260446Z",
     "shell.execute_reply": "2024-10-14T17:10:22.259364Z"
    },
    "papermill": {
     "duration": 0.311028,
     "end_time": "2024-10-14T17:10:22.262950",
     "exception": false,
     "start_time": "2024-10-14T17:10:21.951922",
     "status": "completed"
    },
    "tags": []
   },
   "outputs": [
    {
     "data": {
      "image/png": "[encoded data removed]",
      "text/plain": [
       "<Figure size 640x480 with 1 Axes>"
      ]
     },
     "metadata": {},
     "output_type": "display_data"
    }
   ],
   "source": [
    "error = test_predictions - test_labels\n",
    "plt.hist(error, bins=25)\n",
    "plt.xlabel('Prediction Error [MPG]')\n",
    "_ = plt.ylabel('Count')"
   ]
  },
  {
   "cell_type": "markdown",
   "id": "ffc66ee4",
   "metadata": {
    "papermill": {
     "duration": 0.028622,
     "end_time": "2024-10-14T17:10:22.320534",
     "exception": false,
     "start_time": "2024-10-14T17:10:22.291912",
     "status": "completed"
    },
    "tags": []
   },
   "source": [
    "#### If you're happy with the model, save it for later use with Model.save:"
   ]
  },
  {
   "cell_type": "code",
   "execution_count": 51,
   "id": "db9a1678",
   "metadata": {
    "execution": {
     "iopub.execute_input": "2024-10-14T17:10:22.379886Z",
     "iopub.status.busy": "2024-10-14T17:10:22.378995Z",
     "iopub.status.idle": "2024-10-14T17:10:22.424630Z",
     "shell.execute_reply": "2024-10-14T17:10:22.423657Z"
    },
    "papermill": {
     "duration": 0.07802,
     "end_time": "2024-10-14T17:10:22.427203",
     "exception": false,
     "start_time": "2024-10-14T17:10:22.349183",
     "status": "completed"
    },
    "tags": []
   },
   "outputs": [],
   "source": [
    "dnn_model.save('dnn_model.keras')"
   ]
  },
  {
   "cell_type": "markdown",
   "id": "c30c6bd3",
   "metadata": {
    "papermill": {
     "duration": 0.028651,
     "end_time": "2024-10-14T17:10:22.485708",
     "exception": false,
     "start_time": "2024-10-14T17:10:22.457057",
     "status": "completed"
    },
    "tags": []
   },
   "source": [
    "#### If you reload the model, it gives identical output:"
   ]
  },
  {
   "cell_type": "code",
   "execution_count": 52,
   "id": "dc24ba64",
   "metadata": {
    "execution": {
     "iopub.execute_input": "2024-10-14T17:10:22.546518Z",
     "iopub.status.busy": "2024-10-14T17:10:22.546113Z",
     "iopub.status.idle": "2024-10-14T17:10:22.809283Z",
     "shell.execute_reply": "2024-10-14T17:10:22.808342Z"
    },
    "papermill": {
     "duration": 0.296529,
     "end_time": "2024-10-14T17:10:22.811669",
     "exception": false,
     "start_time": "2024-10-14T17:10:22.515140",
     "status": "completed"
    },
    "tags": []
   },
   "outputs": [],
   "source": [
    "reloaded = tf.keras.models.load_model('dnn_model.keras')\n",
    "\n",
    "test_results['reloaded'] = reloaded.evaluate(\n",
    "    test_features, test_labels, verbose=0)"
   ]
  },
  {
   "cell_type": "code",
   "execution_count": 53,
   "id": "25ec589e",
   "metadata": {
    "execution": {
     "iopub.execute_input": "2024-10-14T17:10:22.870777Z",
     "iopub.status.busy": "2024-10-14T17:10:22.870369Z",
     "iopub.status.idle": "2024-10-14T17:10:22.881731Z",
     "shell.execute_reply": "2024-10-14T17:10:22.880116Z"
    },
    "papermill": {
     "duration": 0.044209,
     "end_time": "2024-10-14T17:10:22.884576",
     "exception": false,
     "start_time": "2024-10-14T17:10:22.840367",
     "status": "completed"
    },
    "tags": []
   },
   "outputs": [
    {
     "data": {
      "text/html": [
       "<div>\n",
       "<style scoped>\n",
       "    .dataframe tbody tr th:only-of-type {\n",
       "        vertical-align: middle;\n",
       "    }\n",
       "\n",
       "    .dataframe tbody tr th {\n",
       "        vertical-align: top;\n",
       "    }\n",
       "\n",
       "    .dataframe thead th {\n",
       "        text-align: right;\n",
       "    }\n",
       "</style>\n",
       "<table border=\"1\" class=\"dataframe\">\n",
       "  <thead>\n",
       "    <tr style=\"text-align: right;\">\n",
       "      <th></th>\n",
       "      <th>Mean absolute error [MPG]</th>\n",
       "    </tr>\n",
       "  </thead>\n",
       "  <tbody>\n",
       "    <tr>\n",
       "      <th>horsepower_model</th>\n",
       "      <td>3.647094</td>\n",
       "    </tr>\n",
       "    <tr>\n",
       "      <th>linear_model</th>\n",
       "      <td>2.524420</td>\n",
       "    </tr>\n",
       "    <tr>\n",
       "      <th>dnn_horsepower_model</th>\n",
       "      <td>2.903947</td>\n",
       "    </tr>\n",
       "    <tr>\n",
       "      <th>dnn_model</th>\n",
       "      <td>1.708701</td>\n",
       "    </tr>\n",
       "    <tr>\n",
       "      <th>reloaded</th>\n",
       "      <td>1.708701</td>\n",
       "    </tr>\n",
       "  </tbody>\n",
       "</table>\n",
       "</div>"
      ],
      "text/plain": [
       "                      Mean absolute error [MPG]\n",
       "horsepower_model                       3.647094\n",
       "linear_model                           2.524420\n",
       "dnn_horsepower_model                   2.903947\n",
       "dnn_model                              1.708701\n",
       "reloaded                               1.708701"
      ]
     },
     "execution_count": 53,
     "metadata": {},
     "output_type": "execute_result"
    }
   ],
   "source": [
    "pd.DataFrame(test_results, index=['Mean absolute error [MPG]']).T"
   ]
  },
  {
   "cell_type": "code",
   "execution_count": null,
   "id": "a196876a",
   "metadata": {
    "papermill": {
     "duration": 0.02924,
     "end_time": "2024-10-14T17:10:22.943042",
     "exception": false,
     "start_time": "2024-10-14T17:10:22.913802",
     "status": "completed"
    },
    "tags": []
   },
   "outputs": [],
   "source": []
  }
 ],
 "metadata": {
  "kaggle": {
   "accelerator": "none",
   "dataSources": [],
   "dockerImageVersionId": 30786,
   "isGpuEnabled": false,
   "isInternetEnabled": true,
   "language": "python",
   "sourceType": "notebook"
  },
  "kernelspec": {
   "display_name": "Python 3",
   "language": "python",
   "name": "python3"
  },
  "language_info": {
   "codemirror_mode": {
    "name": "ipython",
    "version": 3
   },
   "file_extension": ".py",
   "mimetype": "text/x-python",
   "name": "python",
   "nbconvert_exporter": "python",
   "pygments_lexer": "ipython3",
   "version": "3.10.14"
  },
  "papermill": {
   "default_parameters": {},
   "duration": 63.517213,
   "end_time": "2024-10-14T17:10:25.593135",
   "environment_variables": {},
   "exception": null,
   "input_path": "__notebook__.ipynb",
   "output_path": "__notebook__.ipynb",
   "parameters": {},
   "start_time": "2024-10-14T17:09:22.075922",
   "version": "2.6.0"
  }
 },
 "nbformat": 4,
 "nbformat_minor": 5
}
